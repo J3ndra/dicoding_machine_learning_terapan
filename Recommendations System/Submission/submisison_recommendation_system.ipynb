{
 "cells": [
  {
   "cell_type": "markdown",
   "id": "08f3b7a5",
   "metadata": {},
   "source": [
    "# Recommendation System\n",
    "\n",
    "Oleh: Junianto Endra Kartika"
   ]
  },
  {
   "cell_type": "markdown",
   "id": "73cfb05a",
   "metadata": {},
   "source": [
    "## Import Library"
   ]
  },
  {
   "cell_type": "code",
   "execution_count": 1,
   "id": "0e3726af",
   "metadata": {},
   "outputs": [],
   "source": [
    "import re\n",
    "\n",
    "import pandas as pd\n",
    "import numpy as np\n",
    "import matplotlib.pyplot as plt\n",
    "import seaborn as sns\n",
    "\n",
    "from sklearn.feature_extraction.text import TfidfVectorizer\n",
    "from sklearn.metrics.pairwise import cosine_similarity\n",
    "from sklearn.model_selection import train_test_split\n",
    "\n",
    "import tensorflow as tf\n",
    "from tensorflow.keras import layers, regularizers"
   ]
  },
  {
   "cell_type": "markdown",
   "id": "4cd01da3",
   "metadata": {},
   "source": [
    "## Data Loading"
   ]
  },
  {
   "cell_type": "markdown",
   "id": "4ed65ee5",
   "metadata": {},
   "source": [
    "Dataset yang digunakan bernama [MovieLens](https://grouplens.org/datasets/movielens/) dengan total data yang ada adalah 100 ribu data."
   ]
  },
  {
   "cell_type": "markdown",
   "id": "37898cbc",
   "metadata": {},
   "source": [
    "### Users"
   ]
  },
  {
   "cell_type": "code",
   "execution_count": 2,
   "id": "3e05d3d3",
   "metadata": {},
   "outputs": [
    {
     "data": {
      "text/html": [
       "<div>\n",
       "<style scoped>\n",
       "    .dataframe tbody tr th:only-of-type {\n",
       "        vertical-align: middle;\n",
       "    }\n",
       "\n",
       "    .dataframe tbody tr th {\n",
       "        vertical-align: top;\n",
       "    }\n",
       "\n",
       "    .dataframe thead th {\n",
       "        text-align: right;\n",
       "    }\n",
       "</style>\n",
       "<table border=\"1\" class=\"dataframe\">\n",
       "  <thead>\n",
       "    <tr style=\"text-align: right;\">\n",
       "      <th></th>\n",
       "      <th>user_id</th>\n",
       "      <th>age</th>\n",
       "      <th>sex</th>\n",
       "      <th>occupation</th>\n",
       "      <th>zip_code</th>\n",
       "    </tr>\n",
       "  </thead>\n",
       "  <tbody>\n",
       "    <tr>\n",
       "      <th>0</th>\n",
       "      <td>1</td>\n",
       "      <td>24</td>\n",
       "      <td>M</td>\n",
       "      <td>technician</td>\n",
       "      <td>85711</td>\n",
       "    </tr>\n",
       "    <tr>\n",
       "      <th>1</th>\n",
       "      <td>2</td>\n",
       "      <td>53</td>\n",
       "      <td>F</td>\n",
       "      <td>other</td>\n",
       "      <td>94043</td>\n",
       "    </tr>\n",
       "    <tr>\n",
       "      <th>2</th>\n",
       "      <td>3</td>\n",
       "      <td>23</td>\n",
       "      <td>M</td>\n",
       "      <td>writer</td>\n",
       "      <td>32067</td>\n",
       "    </tr>\n",
       "    <tr>\n",
       "      <th>3</th>\n",
       "      <td>4</td>\n",
       "      <td>24</td>\n",
       "      <td>M</td>\n",
       "      <td>technician</td>\n",
       "      <td>43537</td>\n",
       "    </tr>\n",
       "    <tr>\n",
       "      <th>4</th>\n",
       "      <td>5</td>\n",
       "      <td>33</td>\n",
       "      <td>F</td>\n",
       "      <td>other</td>\n",
       "      <td>15213</td>\n",
       "    </tr>\n",
       "  </tbody>\n",
       "</table>\n",
       "</div>"
      ],
      "text/plain": [
       "   user_id  age sex  occupation zip_code\n",
       "0        1   24   M  technician    85711\n",
       "1        2   53   F       other    94043\n",
       "2        3   23   M      writer    32067\n",
       "3        4   24   M  technician    43537\n",
       "4        5   33   F       other    15213"
      ]
     },
     "execution_count": 2,
     "metadata": {},
     "output_type": "execute_result"
    }
   ],
   "source": [
    "# Memuat data user\n",
    "\n",
    "user_cols = ['user_id', 'age', 'sex', 'occupation', 'zip_code']\n",
    "users = pd.read_csv('../Dataset/ml-100k/u.user', sep='|', header=None, names=user_cols, engine='python', encoding='latin-1')\n",
    "users.head()"
   ]
  },
  {
   "cell_type": "code",
   "execution_count": 3,
   "id": "f5638ad6",
   "metadata": {},
   "outputs": [
    {
     "name": "stdout",
     "output_type": "stream",
     "text": [
      "<class 'pandas.core.frame.DataFrame'>\n",
      "RangeIndex: 943 entries, 0 to 942\n",
      "Data columns (total 5 columns):\n",
      " #   Column      Non-Null Count  Dtype \n",
      "---  ------      --------------  ----- \n",
      " 0   user_id     943 non-null    int64 \n",
      " 1   age         943 non-null    int64 \n",
      " 2   sex         943 non-null    object\n",
      " 3   occupation  943 non-null    object\n",
      " 4   zip_code    943 non-null    object\n",
      "dtypes: int64(2), object(3)\n",
      "memory usage: 37.0+ KB\n"
     ]
    }
   ],
   "source": [
    "users.info()"
   ]
  },
  {
   "cell_type": "markdown",
   "id": "7b93cc66",
   "metadata": {},
   "source": [
    "Hasil menunjukkan data `users` memiliki 5 kolom dan total 943 data dengan tidak ada yang kosong (`null`)."
   ]
  },
  {
   "cell_type": "code",
   "execution_count": 4,
   "id": "6e4b5e08",
   "metadata": {},
   "outputs": [
    {
     "name": "stdout",
     "output_type": "stream",
     "text": [
      "Jumlah pengguna: 943\n"
     ]
    }
   ],
   "source": [
    "# Menampilkan jumlah pengguna\n",
    "\n",
    "n_users = users.shape[0]\n",
    "print(f'Jumlah pengguna: {n_users}')"
   ]
  },
  {
   "cell_type": "markdown",
   "id": "0662b5cb",
   "metadata": {},
   "source": [
    "### Genres"
   ]
  },
  {
   "cell_type": "code",
   "execution_count": 5,
   "id": "fe98087c",
   "metadata": {},
   "outputs": [
    {
     "data": {
      "text/html": [
       "<div>\n",
       "<style scoped>\n",
       "    .dataframe tbody tr th:only-of-type {\n",
       "        vertical-align: middle;\n",
       "    }\n",
       "\n",
       "    .dataframe tbody tr th {\n",
       "        vertical-align: top;\n",
       "    }\n",
       "\n",
       "    .dataframe thead th {\n",
       "        text-align: right;\n",
       "    }\n",
       "</style>\n",
       "<table border=\"1\" class=\"dataframe\">\n",
       "  <thead>\n",
       "    <tr style=\"text-align: right;\">\n",
       "      <th></th>\n",
       "      <th>genre_name</th>\n",
       "      <th>genre_id</th>\n",
       "    </tr>\n",
       "  </thead>\n",
       "  <tbody>\n",
       "    <tr>\n",
       "      <th>0</th>\n",
       "      <td>unknown</td>\n",
       "      <td>0</td>\n",
       "    </tr>\n",
       "    <tr>\n",
       "      <th>1</th>\n",
       "      <td>Action</td>\n",
       "      <td>1</td>\n",
       "    </tr>\n",
       "    <tr>\n",
       "      <th>2</th>\n",
       "      <td>Adventure</td>\n",
       "      <td>2</td>\n",
       "    </tr>\n",
       "    <tr>\n",
       "      <th>3</th>\n",
       "      <td>Animation</td>\n",
       "      <td>3</td>\n",
       "    </tr>\n",
       "    <tr>\n",
       "      <th>4</th>\n",
       "      <td>Children's</td>\n",
       "      <td>4</td>\n",
       "    </tr>\n",
       "  </tbody>\n",
       "</table>\n",
       "</div>"
      ],
      "text/plain": [
       "   genre_name  genre_id\n",
       "0     unknown         0\n",
       "1      Action         1\n",
       "2   Adventure         2\n",
       "3   Animation         3\n",
       "4  Children's         4"
      ]
     },
     "execution_count": 5,
     "metadata": {},
     "output_type": "execute_result"
    }
   ],
   "source": [
    "# Memuat data genre\n",
    "\n",
    "genre_cols = ['genre_name', 'genre_id']\n",
    "genres = pd.read_csv('../Dataset/ml-100k/u.genre', sep='|', header=None, names=genre_cols, engine='python', encoding='latin-1')\n",
    "genres.head()"
   ]
  },
  {
   "cell_type": "code",
   "execution_count": 6,
   "id": "b10fb8c5",
   "metadata": {},
   "outputs": [
    {
     "name": "stdout",
     "output_type": "stream",
     "text": [
      "<class 'pandas.core.frame.DataFrame'>\n",
      "RangeIndex: 19 entries, 0 to 18\n",
      "Data columns (total 2 columns):\n",
      " #   Column      Non-Null Count  Dtype \n",
      "---  ------      --------------  ----- \n",
      " 0   genre_name  19 non-null     object\n",
      " 1   genre_id    19 non-null     int64 \n",
      "dtypes: int64(1), object(1)\n",
      "memory usage: 432.0+ bytes\n"
     ]
    }
   ],
   "source": [
    "genres.info()"
   ]
  },
  {
   "cell_type": "markdown",
   "id": "fff13488",
   "metadata": {},
   "source": [
    "Hasil menunjukkan data `genres` memiliki 2 kolom dan total 19 data dengan tidak ada yang kosong (`null`)."
   ]
  },
  {
   "cell_type": "code",
   "execution_count": 7,
   "id": "8ea271c9",
   "metadata": {},
   "outputs": [
    {
     "name": "stdout",
     "output_type": "stream",
     "text": [
      "Jumlah genre: 19\n"
     ]
    }
   ],
   "source": [
    "# Menampilkan jumlah genre\n",
    "\n",
    "n_genres = genres.shape[0]\n",
    "print(f'Jumlah genre: {n_genres}')"
   ]
  },
  {
   "cell_type": "markdown",
   "id": "60fde40e",
   "metadata": {},
   "source": [
    "### Movies"
   ]
  },
  {
   "cell_type": "code",
   "execution_count": 8,
   "id": "13cd1931",
   "metadata": {},
   "outputs": [
    {
     "data": {
      "text/html": [
       "<div>\n",
       "<style scoped>\n",
       "    .dataframe tbody tr th:only-of-type {\n",
       "        vertical-align: middle;\n",
       "    }\n",
       "\n",
       "    .dataframe tbody tr th {\n",
       "        vertical-align: top;\n",
       "    }\n",
       "\n",
       "    .dataframe thead th {\n",
       "        text-align: right;\n",
       "    }\n",
       "</style>\n",
       "<table border=\"1\" class=\"dataframe\">\n",
       "  <thead>\n",
       "    <tr style=\"text-align: right;\">\n",
       "      <th></th>\n",
       "      <th>movie_id</th>\n",
       "      <th>movie_title</th>\n",
       "      <th>release_date</th>\n",
       "      <th>video_release_date</th>\n",
       "      <th>IMDb_URL</th>\n",
       "      <th>unknown</th>\n",
       "      <th>Action</th>\n",
       "      <th>Adventure</th>\n",
       "      <th>Animation</th>\n",
       "      <th>Children's</th>\n",
       "      <th>...</th>\n",
       "      <th>Fantasy</th>\n",
       "      <th>Film-Noir</th>\n",
       "      <th>Horror</th>\n",
       "      <th>Musical</th>\n",
       "      <th>Mystery</th>\n",
       "      <th>Romance</th>\n",
       "      <th>Sci-Fi</th>\n",
       "      <th>Thriller</th>\n",
       "      <th>War</th>\n",
       "      <th>Western</th>\n",
       "    </tr>\n",
       "  </thead>\n",
       "  <tbody>\n",
       "    <tr>\n",
       "      <th>0</th>\n",
       "      <td>1</td>\n",
       "      <td>Toy Story (1995)</td>\n",
       "      <td>01-Jan-1995</td>\n",
       "      <td>NaN</td>\n",
       "      <td>http://us.imdb.com/M/title-exact?Toy%20Story%2...</td>\n",
       "      <td>0</td>\n",
       "      <td>0</td>\n",
       "      <td>0</td>\n",
       "      <td>1</td>\n",
       "      <td>1</td>\n",
       "      <td>...</td>\n",
       "      <td>0</td>\n",
       "      <td>0</td>\n",
       "      <td>0</td>\n",
       "      <td>0</td>\n",
       "      <td>0</td>\n",
       "      <td>0</td>\n",
       "      <td>0</td>\n",
       "      <td>0</td>\n",
       "      <td>0</td>\n",
       "      <td>0</td>\n",
       "    </tr>\n",
       "    <tr>\n",
       "      <th>1</th>\n",
       "      <td>2</td>\n",
       "      <td>GoldenEye (1995)</td>\n",
       "      <td>01-Jan-1995</td>\n",
       "      <td>NaN</td>\n",
       "      <td>http://us.imdb.com/M/title-exact?GoldenEye%20(...</td>\n",
       "      <td>0</td>\n",
       "      <td>1</td>\n",
       "      <td>1</td>\n",
       "      <td>0</td>\n",
       "      <td>0</td>\n",
       "      <td>...</td>\n",
       "      <td>0</td>\n",
       "      <td>0</td>\n",
       "      <td>0</td>\n",
       "      <td>0</td>\n",
       "      <td>0</td>\n",
       "      <td>0</td>\n",
       "      <td>0</td>\n",
       "      <td>1</td>\n",
       "      <td>0</td>\n",
       "      <td>0</td>\n",
       "    </tr>\n",
       "    <tr>\n",
       "      <th>2</th>\n",
       "      <td>3</td>\n",
       "      <td>Four Rooms (1995)</td>\n",
       "      <td>01-Jan-1995</td>\n",
       "      <td>NaN</td>\n",
       "      <td>http://us.imdb.com/M/title-exact?Four%20Rooms%...</td>\n",
       "      <td>0</td>\n",
       "      <td>0</td>\n",
       "      <td>0</td>\n",
       "      <td>0</td>\n",
       "      <td>0</td>\n",
       "      <td>...</td>\n",
       "      <td>0</td>\n",
       "      <td>0</td>\n",
       "      <td>0</td>\n",
       "      <td>0</td>\n",
       "      <td>0</td>\n",
       "      <td>0</td>\n",
       "      <td>0</td>\n",
       "      <td>1</td>\n",
       "      <td>0</td>\n",
       "      <td>0</td>\n",
       "    </tr>\n",
       "    <tr>\n",
       "      <th>3</th>\n",
       "      <td>4</td>\n",
       "      <td>Get Shorty (1995)</td>\n",
       "      <td>01-Jan-1995</td>\n",
       "      <td>NaN</td>\n",
       "      <td>http://us.imdb.com/M/title-exact?Get%20Shorty%...</td>\n",
       "      <td>0</td>\n",
       "      <td>1</td>\n",
       "      <td>0</td>\n",
       "      <td>0</td>\n",
       "      <td>0</td>\n",
       "      <td>...</td>\n",
       "      <td>0</td>\n",
       "      <td>0</td>\n",
       "      <td>0</td>\n",
       "      <td>0</td>\n",
       "      <td>0</td>\n",
       "      <td>0</td>\n",
       "      <td>0</td>\n",
       "      <td>0</td>\n",
       "      <td>0</td>\n",
       "      <td>0</td>\n",
       "    </tr>\n",
       "    <tr>\n",
       "      <th>4</th>\n",
       "      <td>5</td>\n",
       "      <td>Copycat (1995)</td>\n",
       "      <td>01-Jan-1995</td>\n",
       "      <td>NaN</td>\n",
       "      <td>http://us.imdb.com/M/title-exact?Copycat%20(1995)</td>\n",
       "      <td>0</td>\n",
       "      <td>0</td>\n",
       "      <td>0</td>\n",
       "      <td>0</td>\n",
       "      <td>0</td>\n",
       "      <td>...</td>\n",
       "      <td>0</td>\n",
       "      <td>0</td>\n",
       "      <td>0</td>\n",
       "      <td>0</td>\n",
       "      <td>0</td>\n",
       "      <td>0</td>\n",
       "      <td>0</td>\n",
       "      <td>1</td>\n",
       "      <td>0</td>\n",
       "      <td>0</td>\n",
       "    </tr>\n",
       "  </tbody>\n",
       "</table>\n",
       "<p>5 rows × 24 columns</p>\n",
       "</div>"
      ],
      "text/plain": [
       "   movie_id        movie_title release_date  video_release_date  \\\n",
       "0         1   Toy Story (1995)  01-Jan-1995                 NaN   \n",
       "1         2   GoldenEye (1995)  01-Jan-1995                 NaN   \n",
       "2         3  Four Rooms (1995)  01-Jan-1995                 NaN   \n",
       "3         4  Get Shorty (1995)  01-Jan-1995                 NaN   \n",
       "4         5     Copycat (1995)  01-Jan-1995                 NaN   \n",
       "\n",
       "                                            IMDb_URL  unknown  Action  \\\n",
       "0  http://us.imdb.com/M/title-exact?Toy%20Story%2...        0       0   \n",
       "1  http://us.imdb.com/M/title-exact?GoldenEye%20(...        0       1   \n",
       "2  http://us.imdb.com/M/title-exact?Four%20Rooms%...        0       0   \n",
       "3  http://us.imdb.com/M/title-exact?Get%20Shorty%...        0       1   \n",
       "4  http://us.imdb.com/M/title-exact?Copycat%20(1995)        0       0   \n",
       "\n",
       "   Adventure  Animation  Children's  ...  Fantasy  Film-Noir  Horror  Musical  \\\n",
       "0          0          1           1  ...        0          0       0        0   \n",
       "1          1          0           0  ...        0          0       0        0   \n",
       "2          0          0           0  ...        0          0       0        0   \n",
       "3          0          0           0  ...        0          0       0        0   \n",
       "4          0          0           0  ...        0          0       0        0   \n",
       "\n",
       "   Mystery  Romance  Sci-Fi  Thriller  War  Western  \n",
       "0        0        0       0         0    0        0  \n",
       "1        0        0       0         1    0        0  \n",
       "2        0        0       0         1    0        0  \n",
       "3        0        0       0         0    0        0  \n",
       "4        0        0       0         1    0        0  \n",
       "\n",
       "[5 rows x 24 columns]"
      ]
     },
     "execution_count": 8,
     "metadata": {},
     "output_type": "execute_result"
    }
   ],
   "source": [
    "# Memuat data movie\n",
    "\n",
    "movie_cols = ['movie_id', 'movie_title', 'release_date', 'video_release_date', 'IMDb_URL']\n",
    "movie_cols += genres['genre_name'].tolist()\n",
    "\n",
    "movies = pd.read_csv('../Dataset/ml-100k/u.item', sep='|', header=None, names=movie_cols, engine='python', encoding='latin-1')\n",
    "\n",
    "# Menampilkan 5 data movie pertama\n",
    "movies.head()"
   ]
  },
  {
   "cell_type": "code",
   "execution_count": 9,
   "id": "84791e08",
   "metadata": {},
   "outputs": [
    {
     "data": {
      "text/html": [
       "<div>\n",
       "<style scoped>\n",
       "    .dataframe tbody tr th:only-of-type {\n",
       "        vertical-align: middle;\n",
       "    }\n",
       "\n",
       "    .dataframe tbody tr th {\n",
       "        vertical-align: top;\n",
       "    }\n",
       "\n",
       "    .dataframe thead th {\n",
       "        text-align: right;\n",
       "    }\n",
       "</style>\n",
       "<table border=\"1\" class=\"dataframe\">\n",
       "  <thead>\n",
       "    <tr style=\"text-align: right;\">\n",
       "      <th></th>\n",
       "      <th>movie_id</th>\n",
       "      <th>movie_title</th>\n",
       "      <th>release_date</th>\n",
       "      <th>video_release_date</th>\n",
       "      <th>IMDb_URL</th>\n",
       "      <th>unknown</th>\n",
       "      <th>Action</th>\n",
       "      <th>Adventure</th>\n",
       "      <th>Animation</th>\n",
       "      <th>Children's</th>\n",
       "      <th>...</th>\n",
       "      <th>Fantasy</th>\n",
       "      <th>Film-Noir</th>\n",
       "      <th>Horror</th>\n",
       "      <th>Musical</th>\n",
       "      <th>Mystery</th>\n",
       "      <th>Romance</th>\n",
       "      <th>Sci-Fi</th>\n",
       "      <th>Thriller</th>\n",
       "      <th>War</th>\n",
       "      <th>Western</th>\n",
       "    </tr>\n",
       "  </thead>\n",
       "  <tbody>\n",
       "    <tr>\n",
       "      <th>1677</th>\n",
       "      <td>1678</td>\n",
       "      <td>Mat' i syn (1997)</td>\n",
       "      <td>06-Feb-1998</td>\n",
       "      <td>NaN</td>\n",
       "      <td>http://us.imdb.com/M/title-exact?Mat%27+i+syn+...</td>\n",
       "      <td>0</td>\n",
       "      <td>0</td>\n",
       "      <td>0</td>\n",
       "      <td>0</td>\n",
       "      <td>0</td>\n",
       "      <td>...</td>\n",
       "      <td>0</td>\n",
       "      <td>0</td>\n",
       "      <td>0</td>\n",
       "      <td>0</td>\n",
       "      <td>0</td>\n",
       "      <td>0</td>\n",
       "      <td>0</td>\n",
       "      <td>0</td>\n",
       "      <td>0</td>\n",
       "      <td>0</td>\n",
       "    </tr>\n",
       "    <tr>\n",
       "      <th>1678</th>\n",
       "      <td>1679</td>\n",
       "      <td>B. Monkey (1998)</td>\n",
       "      <td>06-Feb-1998</td>\n",
       "      <td>NaN</td>\n",
       "      <td>http://us.imdb.com/M/title-exact?B%2E+Monkey+(...</td>\n",
       "      <td>0</td>\n",
       "      <td>0</td>\n",
       "      <td>0</td>\n",
       "      <td>0</td>\n",
       "      <td>0</td>\n",
       "      <td>...</td>\n",
       "      <td>0</td>\n",
       "      <td>0</td>\n",
       "      <td>0</td>\n",
       "      <td>0</td>\n",
       "      <td>0</td>\n",
       "      <td>1</td>\n",
       "      <td>0</td>\n",
       "      <td>1</td>\n",
       "      <td>0</td>\n",
       "      <td>0</td>\n",
       "    </tr>\n",
       "    <tr>\n",
       "      <th>1679</th>\n",
       "      <td>1680</td>\n",
       "      <td>Sliding Doors (1998)</td>\n",
       "      <td>01-Jan-1998</td>\n",
       "      <td>NaN</td>\n",
       "      <td>http://us.imdb.com/Title?Sliding+Doors+(1998)</td>\n",
       "      <td>0</td>\n",
       "      <td>0</td>\n",
       "      <td>0</td>\n",
       "      <td>0</td>\n",
       "      <td>0</td>\n",
       "      <td>...</td>\n",
       "      <td>0</td>\n",
       "      <td>0</td>\n",
       "      <td>0</td>\n",
       "      <td>0</td>\n",
       "      <td>0</td>\n",
       "      <td>1</td>\n",
       "      <td>0</td>\n",
       "      <td>0</td>\n",
       "      <td>0</td>\n",
       "      <td>0</td>\n",
       "    </tr>\n",
       "    <tr>\n",
       "      <th>1680</th>\n",
       "      <td>1681</td>\n",
       "      <td>You So Crazy (1994)</td>\n",
       "      <td>01-Jan-1994</td>\n",
       "      <td>NaN</td>\n",
       "      <td>http://us.imdb.com/M/title-exact?You%20So%20Cr...</td>\n",
       "      <td>0</td>\n",
       "      <td>0</td>\n",
       "      <td>0</td>\n",
       "      <td>0</td>\n",
       "      <td>0</td>\n",
       "      <td>...</td>\n",
       "      <td>0</td>\n",
       "      <td>0</td>\n",
       "      <td>0</td>\n",
       "      <td>0</td>\n",
       "      <td>0</td>\n",
       "      <td>0</td>\n",
       "      <td>0</td>\n",
       "      <td>0</td>\n",
       "      <td>0</td>\n",
       "      <td>0</td>\n",
       "    </tr>\n",
       "    <tr>\n",
       "      <th>1681</th>\n",
       "      <td>1682</td>\n",
       "      <td>Scream of Stone (Schrei aus Stein) (1991)</td>\n",
       "      <td>08-Mar-1996</td>\n",
       "      <td>NaN</td>\n",
       "      <td>http://us.imdb.com/M/title-exact?Schrei%20aus%...</td>\n",
       "      <td>0</td>\n",
       "      <td>0</td>\n",
       "      <td>0</td>\n",
       "      <td>0</td>\n",
       "      <td>0</td>\n",
       "      <td>...</td>\n",
       "      <td>0</td>\n",
       "      <td>0</td>\n",
       "      <td>0</td>\n",
       "      <td>0</td>\n",
       "      <td>0</td>\n",
       "      <td>0</td>\n",
       "      <td>0</td>\n",
       "      <td>0</td>\n",
       "      <td>0</td>\n",
       "      <td>0</td>\n",
       "    </tr>\n",
       "  </tbody>\n",
       "</table>\n",
       "<p>5 rows × 24 columns</p>\n",
       "</div>"
      ],
      "text/plain": [
       "      movie_id                                movie_title release_date  \\\n",
       "1677      1678                          Mat' i syn (1997)  06-Feb-1998   \n",
       "1678      1679                           B. Monkey (1998)  06-Feb-1998   \n",
       "1679      1680                       Sliding Doors (1998)  01-Jan-1998   \n",
       "1680      1681                        You So Crazy (1994)  01-Jan-1994   \n",
       "1681      1682  Scream of Stone (Schrei aus Stein) (1991)  08-Mar-1996   \n",
       "\n",
       "      video_release_date                                           IMDb_URL  \\\n",
       "1677                 NaN  http://us.imdb.com/M/title-exact?Mat%27+i+syn+...   \n",
       "1678                 NaN  http://us.imdb.com/M/title-exact?B%2E+Monkey+(...   \n",
       "1679                 NaN      http://us.imdb.com/Title?Sliding+Doors+(1998)   \n",
       "1680                 NaN  http://us.imdb.com/M/title-exact?You%20So%20Cr...   \n",
       "1681                 NaN  http://us.imdb.com/M/title-exact?Schrei%20aus%...   \n",
       "\n",
       "      unknown  Action  Adventure  Animation  Children's  ...  Fantasy  \\\n",
       "1677        0       0          0          0           0  ...        0   \n",
       "1678        0       0          0          0           0  ...        0   \n",
       "1679        0       0          0          0           0  ...        0   \n",
       "1680        0       0          0          0           0  ...        0   \n",
       "1681        0       0          0          0           0  ...        0   \n",
       "\n",
       "      Film-Noir  Horror  Musical  Mystery  Romance  Sci-Fi  Thriller  War  \\\n",
       "1677          0       0        0        0        0       0         0    0   \n",
       "1678          0       0        0        0        1       0         1    0   \n",
       "1679          0       0        0        0        1       0         0    0   \n",
       "1680          0       0        0        0        0       0         0    0   \n",
       "1681          0       0        0        0        0       0         0    0   \n",
       "\n",
       "      Western  \n",
       "1677        0  \n",
       "1678        0  \n",
       "1679        0  \n",
       "1680        0  \n",
       "1681        0  \n",
       "\n",
       "[5 rows x 24 columns]"
      ]
     },
     "execution_count": 9,
     "metadata": {},
     "output_type": "execute_result"
    }
   ],
   "source": [
    "# Menampilkan 5 data movie terakhir\n",
    "movies.tail()"
   ]
  },
  {
   "cell_type": "code",
   "execution_count": 10,
   "id": "d726361f",
   "metadata": {},
   "outputs": [
    {
     "name": "stdout",
     "output_type": "stream",
     "text": [
      "<class 'pandas.core.frame.DataFrame'>\n",
      "RangeIndex: 1682 entries, 0 to 1681\n",
      "Data columns (total 24 columns):\n",
      " #   Column              Non-Null Count  Dtype  \n",
      "---  ------              --------------  -----  \n",
      " 0   movie_id            1682 non-null   int64  \n",
      " 1   movie_title         1682 non-null   object \n",
      " 2   release_date        1681 non-null   object \n",
      " 3   video_release_date  0 non-null      float64\n",
      " 4   IMDb_URL            1679 non-null   object \n",
      " 5   unknown             1682 non-null   int64  \n",
      " 6   Action              1682 non-null   int64  \n",
      " 7   Adventure           1682 non-null   int64  \n",
      " 8   Animation           1682 non-null   int64  \n",
      " 9   Children's          1682 non-null   int64  \n",
      " 10  Comedy              1682 non-null   int64  \n",
      " 11  Crime               1682 non-null   int64  \n",
      " 12  Documentary         1682 non-null   int64  \n",
      " 13  Drama               1682 non-null   int64  \n",
      " 14  Fantasy             1682 non-null   int64  \n",
      " 15  Film-Noir           1682 non-null   int64  \n",
      " 16  Horror              1682 non-null   int64  \n",
      " 17  Musical             1682 non-null   int64  \n",
      " 18  Mystery             1682 non-null   int64  \n",
      " 19  Romance             1682 non-null   int64  \n",
      " 20  Sci-Fi              1682 non-null   int64  \n",
      " 21  Thriller            1682 non-null   int64  \n",
      " 22  War                 1682 non-null   int64  \n",
      " 23  Western             1682 non-null   int64  \n",
      "dtypes: float64(1), int64(20), object(3)\n",
      "memory usage: 315.5+ KB\n"
     ]
    }
   ],
   "source": [
    "movies.info()"
   ]
  },
  {
   "cell_type": "markdown",
   "id": "d419895b",
   "metadata": {},
   "source": [
    "Hasil menunjukkan data `movies` memiliki 24 kolom dan total 1682 data dengan tidak ada yang kosong (`null`)."
   ]
  },
  {
   "cell_type": "code",
   "execution_count": 11,
   "id": "04d3f206",
   "metadata": {},
   "outputs": [
    {
     "name": "stdout",
     "output_type": "stream",
     "text": [
      "Jumlah movies: 1682\n"
     ]
    }
   ],
   "source": [
    "# Menampilkan jumlah movie\n",
    "\n",
    "n_movies = movies.shape[0]\n",
    "print(f'Jumlah movies: {n_movies}')"
   ]
  },
  {
   "cell_type": "markdown",
   "id": "6d98ef98",
   "metadata": {},
   "source": [
    "### Ratings"
   ]
  },
  {
   "cell_type": "code",
   "execution_count": 12,
   "id": "413eb168",
   "metadata": {},
   "outputs": [
    {
     "data": {
      "text/html": [
       "<div>\n",
       "<style scoped>\n",
       "    .dataframe tbody tr th:only-of-type {\n",
       "        vertical-align: middle;\n",
       "    }\n",
       "\n",
       "    .dataframe tbody tr th {\n",
       "        vertical-align: top;\n",
       "    }\n",
       "\n",
       "    .dataframe thead th {\n",
       "        text-align: right;\n",
       "    }\n",
       "</style>\n",
       "<table border=\"1\" class=\"dataframe\">\n",
       "  <thead>\n",
       "    <tr style=\"text-align: right;\">\n",
       "      <th></th>\n",
       "      <th>user_id</th>\n",
       "      <th>movie_id</th>\n",
       "      <th>rating</th>\n",
       "      <th>unix_timestamp</th>\n",
       "    </tr>\n",
       "  </thead>\n",
       "  <tbody>\n",
       "    <tr>\n",
       "      <th>0</th>\n",
       "      <td>1</td>\n",
       "      <td>1</td>\n",
       "      <td>5</td>\n",
       "      <td>874965758</td>\n",
       "    </tr>\n",
       "    <tr>\n",
       "      <th>1</th>\n",
       "      <td>1</td>\n",
       "      <td>2</td>\n",
       "      <td>3</td>\n",
       "      <td>876893171</td>\n",
       "    </tr>\n",
       "    <tr>\n",
       "      <th>2</th>\n",
       "      <td>1</td>\n",
       "      <td>3</td>\n",
       "      <td>4</td>\n",
       "      <td>878542960</td>\n",
       "    </tr>\n",
       "    <tr>\n",
       "      <th>3</th>\n",
       "      <td>1</td>\n",
       "      <td>4</td>\n",
       "      <td>3</td>\n",
       "      <td>876893119</td>\n",
       "    </tr>\n",
       "    <tr>\n",
       "      <th>4</th>\n",
       "      <td>1</td>\n",
       "      <td>5</td>\n",
       "      <td>3</td>\n",
       "      <td>889751712</td>\n",
       "    </tr>\n",
       "  </tbody>\n",
       "</table>\n",
       "</div>"
      ],
      "text/plain": [
       "   user_id  movie_id  rating  unix_timestamp\n",
       "0        1         1       5       874965758\n",
       "1        1         2       3       876893171\n",
       "2        1         3       4       878542960\n",
       "3        1         4       3       876893119\n",
       "4        1         5       3       889751712"
      ]
     },
     "execution_count": 12,
     "metadata": {},
     "output_type": "execute_result"
    }
   ],
   "source": [
    "# Memuat data rating\n",
    "\n",
    "rating_cols = ['user_id', 'movie_id', 'rating', 'unix_timestamp']\n",
    "\n",
    "ratings_base = pd.read_csv('../Dataset/ml-100k/ua.base', sep='\\t', header=None, names=rating_cols, engine='python', encoding='latin-1')\n",
    "ratings_test = pd.read_csv('../Dataset/ml-100k/ua.test', sep='\\t', header=None, names=rating_cols, engine='python', encoding='latin-1')\n",
    "\n",
    "ratings_base.head()"
   ]
  },
  {
   "cell_type": "code",
   "execution_count": 13,
   "id": "e5b42969",
   "metadata": {},
   "outputs": [
    {
     "name": "stdout",
     "output_type": "stream",
     "text": [
      "<class 'pandas.core.frame.DataFrame'>\n",
      "RangeIndex: 90570 entries, 0 to 90569\n",
      "Data columns (total 4 columns):\n",
      " #   Column          Non-Null Count  Dtype\n",
      "---  ------          --------------  -----\n",
      " 0   user_id         90570 non-null  int64\n",
      " 1   movie_id        90570 non-null  int64\n",
      " 2   rating          90570 non-null  int64\n",
      " 3   unix_timestamp  90570 non-null  int64\n",
      "dtypes: int64(4)\n",
      "memory usage: 2.8 MB\n",
      "<class 'pandas.core.frame.DataFrame'>\n",
      "RangeIndex: 9430 entries, 0 to 9429\n",
      "Data columns (total 4 columns):\n",
      " #   Column          Non-Null Count  Dtype\n",
      "---  ------          --------------  -----\n",
      " 0   user_id         9430 non-null   int64\n",
      " 1   movie_id        9430 non-null   int64\n",
      " 2   rating          9430 non-null   int64\n",
      " 3   unix_timestamp  9430 non-null   int64\n",
      "dtypes: int64(4)\n",
      "memory usage: 294.8 KB\n"
     ]
    }
   ],
   "source": [
    "ratings_base.info()\n",
    "ratings_test.info()"
   ]
  },
  {
   "cell_type": "markdown",
   "id": "360cab05",
   "metadata": {},
   "source": [
    "Hasil menunjukkan data `ratings_base` dan `ratings_test` memiliki 4 kolom dan total 90570 data pada `ratings_base` dan 9430 data pada `ratings_test` dengan tidak ada yang kosong (`null`)."
   ]
  },
  {
   "cell_type": "code",
   "execution_count": 14,
   "id": "6c573595",
   "metadata": {},
   "outputs": [
    {
     "name": "stdout",
     "output_type": "stream",
     "text": [
      "Jumlah rating train: 90570\n",
      "Jumlah rating test: 9430\n"
     ]
    }
   ],
   "source": [
    "# Menampilkan jumlah rating\n",
    "\n",
    "n_train = ratings_base.values\n",
    "n_test = ratings_test.values\n",
    "\n",
    "print(f'Jumlah rating train: {n_train.shape[0]}')\n",
    "print(f'Jumlah rating test: {n_test.shape[0]}')"
   ]
  },
  {
   "cell_type": "markdown",
   "id": "ac3a8487",
   "metadata": {},
   "source": [
    "Pada proyek ini, akan terdapat beberapa data yang akan digunakan. Yaitu\n",
    "\n",
    "1. Users:\n",
    "    - `user_id`\n",
    "    - `age`\n",
    "    - `occupation`\n",
    "    - `zip_code`\n",
    "2. Genres\n",
    "    - `genre_id`\n",
    "    - `genre_name`\n",
    "3. Movies\n",
    "    - `movie_id`\n",
    "    - `movie_title`\n",
    "    - `release_date`\n",
    "    - `video_release_date`\n",
    "    - `IMDb_URL`\n",
    "    - One-hot genres encoding\n",
    "4. Ratings\n",
    "    - `user_id`\n",
    "    - `movie_id`\n",
    "    - `rating`\n",
    "    - `unix_timestamp`"
   ]
  },
  {
   "cell_type": "markdown",
   "id": "2ddd436d",
   "metadata": {},
   "source": [
    "## EDA"
   ]
  },
  {
   "cell_type": "markdown",
   "id": "58a288ba",
   "metadata": {},
   "source": [
    "### Users"
   ]
  },
  {
   "cell_type": "code",
   "execution_count": 15,
   "id": "d59e163a",
   "metadata": {},
   "outputs": [
    {
     "data": {
      "image/png": "[encoded data removed]",
      "text/plain": [
       "<Figure size 1200x800 with 1 Axes>"
      ]
     },
     "metadata": {},
     "output_type": "display_data"
    },
    {
     "name": "stdout",
     "output_type": "stream",
     "text": [
      "Total number of users: 943\n",
      "Total number of ratings: 100000\n",
      "Average number of ratings per user: 106.04\n",
      "Maximum number of ratings by a user: 737\n",
      "Minimum number of ratings by a user: 20\n"
     ]
    }
   ],
   "source": [
    "# Menggabungkan peringkat dari kumpulan data dasar dan uji\n",
    "all_ratings = pd.concat([ratings_base, ratings_test])\n",
    "\n",
    "# Menghitung rating per pengguna\n",
    "ratings_per_user = all_ratings.groupby('user_id')['rating'].count()\n",
    "\n",
    "# Menghitung statistik\n",
    "min_ratings = ratings_per_user.min()\n",
    "max_ratings = ratings_per_user.max()\n",
    "mean_ratings = ratings_per_user.mean()\n",
    "median_ratings = ratings_per_user.median()\n",
    "std_ratings = ratings_per_user.std()\n",
    "\n",
    "# Menampilkan statistik\n",
    "plt.figure(figsize=(12, 8))\n",
    "\n",
    "n, bins, patches = plt.hist(ratings_per_user, bins=30, alpha=0.7, color='skyblue', edgecolor='black')\n",
    "\n",
    "plt.axvline(mean_ratings, color='red', linestyle='dashed', linewidth=2, label=f'Mean: {mean_ratings:.1f}')\n",
    "plt.axvline(median_ratings, color='green', linestyle='dashed', linewidth=2, label=f'Median: {median_ratings:.1f}')\n",
    "\n",
    "stats_text = f'Min: {min_ratings}\\nMax: {max_ratings}\\nStd: {std_ratings:.1f}'\n",
    "plt.annotate(stats_text, xy=(0.95, 0.95), xycoords='axes fraction', \n",
    "             bbox=dict(boxstyle=\"round,pad=0.3\", fc=\"white\", ec=\"black\", alpha=0.8),\n",
    "             ha='right', va='top')\n",
    "\n",
    "plt.title('Distribution of Ratings per User', fontsize=15)\n",
    "plt.xlabel('Number of Ratings', fontsize=12)\n",
    "plt.ylabel('Number of Users', fontsize=12)\n",
    "plt.legend()\n",
    "plt.grid(True, alpha=0.3)\n",
    "\n",
    "plt.tight_layout()\n",
    "plt.show()\n",
    "\n",
    "# Menampilkan informasi pengguna\n",
    "print(f\"Total number of users: {len(ratings_per_user)}\")\n",
    "print(f\"Total number of ratings: {len(all_ratings)}\")\n",
    "print(f\"Average number of ratings per user: {mean_ratings:.2f}\")\n",
    "print(f\"Maximum number of ratings by a user: {max_ratings}\")\n",
    "print(f\"Minimum number of ratings by a user: {min_ratings}\")"
   ]
  },
  {
   "cell_type": "markdown",
   "id": "f6dfd703",
   "metadata": {},
   "source": [
    "Visualisasi di atas menunjukkan dari jumlah 943 *user*, rata-rata *user* memiliki jumlah rating `106` dengan *user* yang memiliki jumlah rating tertinggi berjumlah `737` dan jumlah rating terendah adalah `20`."
   ]
  },
  {
   "cell_type": "markdown",
   "id": "b84b5b8b",
   "metadata": {},
   "source": [
    "### Genres"
   ]
  },
  {
   "cell_type": "code",
   "execution_count": 16,
   "id": "c0a0f9b9",
   "metadata": {},
   "outputs": [
    {
     "data": {
      "image/png": "[encoded data removed]",
      "text/plain": [
       "<Figure size 1200x800 with 1 Axes>"
      ]
     },
     "metadata": {},
     "output_type": "display_data"
    },
    {
     "name": "stdout",
     "output_type": "stream",
     "text": [
      "Total number of genre assignments: 2893\n",
      "Average genres per movie: 1.72\n",
      "Most common genre: Drama (725 movies)\n",
      "Least common genre: unknown (2 movies)\n"
     ]
    }
   ],
   "source": [
    "# Menghitung jumlah film untuk setiap genre\n",
    "genre_counts = {}\n",
    "genre_columns = [col for col in movies.columns if col not in ['movie_id', 'movie_title', 'release_date', 'video_release_date', 'IMDb_URL']]\n",
    "for genre in genre_columns:\n",
    "    genre_counts[genre] = movies[genre].sum()\n",
    "\n",
    "# Menghitung total film untuk setiap genre\n",
    "genre_distribution = pd.Series(genre_counts).sort_values(ascending=False)\n",
    "\n",
    "# Menampilkan distribusi genre\n",
    "plt.figure(figsize=(12, 8))\n",
    "ax = sns.barplot(x=genre_distribution.values, y=genre_distribution.index, hue=genre_distribution.index, palette='viridis', legend=False)\n",
    "\n",
    "for i, v in enumerate(genre_distribution.values):\n",
    "    ax.text(v + 5, i, f\"{int(v)}\", va='center')\n",
    "\n",
    "plt.title('Distribution of Movie Genres', fontsize=15)\n",
    "plt.xlabel('Number of Movies', fontsize=12)\n",
    "plt.ylabel('Genre', fontsize=12)\n",
    "\n",
    "plt.grid(axis='x', alpha=0.3)\n",
    "plt.tight_layout()\n",
    "plt.show()\n",
    "\n",
    "# Menampilkan informasi genre\n",
    "print(f\"Total number of genre assignments: {sum(genre_distribution.values)}\")\n",
    "print(f\"Average genres per movie: {sum(genre_distribution.values) / n_movies:.2f}\")\n",
    "print(f\"Most common genre: {genre_distribution.index[0]} ({int(genre_distribution.values[0])} movies)\")\n",
    "print(f\"Least common genre: {genre_distribution.index[-1]} ({int(genre_distribution.values[-1])} movies)\")"
   ]
  },
  {
   "cell_type": "markdown",
   "id": "0e18d102",
   "metadata": {},
   "source": [
    "Visualisasi di atas menunjukkan bahwa *genre* `drama` merupakan *genre* dengan jumlah movie terbanyak. Terdapat *genre* `unknown` yang dimana *genre* tersebut adalah *genre* yang kotor, maka dari itu proyek ini akan menghapus *genre* tersebut."
   ]
  },
  {
   "cell_type": "code",
   "execution_count": 17,
   "id": "51bb8912",
   "metadata": {},
   "outputs": [
    {
     "name": "stdout",
     "output_type": "stream",
     "text": [
      "Number of movies with 'unknown' genre: 2\n",
      "\n",
      "Details of unknown genre movies:\n",
      "      movie_id          movie_title release_date\n",
      "266        267              unknown          NaN\n",
      "1372      1373  Good Morning (1971)   4-Feb-1971\n",
      "\n",
      "Movies with 'unknown' genre that also have other genres: 0\n",
      "Movies with ONLY 'unknown' genre: 2\n"
     ]
    }
   ],
   "source": [
    "# Mencari film dengan genre 'unknown'\n",
    "unknown_movies = movies[movies['unknown'] == 1]\n",
    "print(f\"Number of movies with 'unknown' genre: {len(unknown_movies)}\")\n",
    "\n",
    "# Mencari film dengan genre 'unknown' dan genre lain\n",
    "genre_columns = [col for col in movies.columns if col not in ['movie_id', 'movie_title', 'release_date', 'video_release_date', 'IMDb_URL', 'unknown']]\n",
    "has_other_genres = unknown_movies[genre_columns].sum(axis=1) > 0\n",
    "\n",
    "# Menampilkan film dengan genre 'unknown' dan genre lain\n",
    "unknown_movies_details = unknown_movies[['movie_id', 'movie_title', 'release_date']]\n",
    "print(\"\\nDetails of unknown genre movies:\")\n",
    "print(unknown_movies_details)\n",
    "\n",
    "# Menampilkan jumlah film dengan genre 'unknown' dan genre lain\n",
    "print(f\"\\nMovies with 'unknown' genre that also have other genres: {has_other_genres.sum()}\")\n",
    "print(f\"Movies with ONLY 'unknown' genre: {(~has_other_genres).sum()}\")"
   ]
  },
  {
   "cell_type": "markdown",
   "id": "fdec06bf",
   "metadata": {},
   "source": [
    "Karena hanya 2 movie yang memiliki genre `unknown` dan movie tersebut tidak memiliki genre yang lain, maka movie tersebut akan dihapus dari data untuk menjaga keseimbangan data."
   ]
  },
  {
   "cell_type": "code",
   "execution_count": 18,
   "id": "20a37ca4",
   "metadata": {},
   "outputs": [
    {
     "name": "stdout",
     "output_type": "stream",
     "text": [
      "Menghapus 2 movies dengen gener 'unknown'.\n",
      "Jumlah movies setelah penghapusan: 1680\n",
      "Jumlah genres setelah penghapusan 'unknown': 18\n"
     ]
    }
   ],
   "source": [
    "# Menghapus film dengan genre 'unknown' yang tidak memiliki genre lain\n",
    "movie_ids_to_remove = unknown_movies[~has_other_genres]['movie_id'].tolist()\n",
    "movies = movies[~movies['movie_id'].isin(movie_ids_to_remove)]\n",
    "\n",
    "# Menghapus kolom 'unknown' dari DataFrame movies\n",
    "movies = movies.drop('unknown', axis=1)\n",
    "\n",
    "# Menghapus genre 'unknown' dari DataFrame genres\n",
    "genre_columns = [col for col in movies.columns if col not in ['movie_id', 'movie_title', 'release_date', 'video_release_date', 'IMDb_URL']]\n",
    "\n",
    "# Menghapus kolom 'unknown' dari genre_cols\n",
    "if 'unknown' in movie_cols:\n",
    "    movie_cols.remove('unknown')\n",
    "\n",
    "# Menghapus genre 'unknown' dari DataFrame genres\n",
    "genres = genres[genres['genre_name'] != 'unknown']\n",
    "\n",
    "print(f\"Menghapus {len(movie_ids_to_remove)} movies dengen gener 'unknown'.\")\n",
    "print(f\"Jumlah movies setelah penghapusan: {movies.shape[0]}\")\n",
    "print(f\"Jumlah genres setelah penghapusan 'unknown': {len(genres)}\")"
   ]
  },
  {
   "cell_type": "markdown",
   "id": "717675d2",
   "metadata": {},
   "source": [
    "Setelah menghapus *genre* `unknown` dan *movie* yang memiliki genre `unknown`. Jumlah *movie* sebelumnya berjumlah `1682` menjadi `1680` dan jumlah *genre* yang sebelumnya `19` menjadi `18`."
   ]
  },
  {
   "cell_type": "markdown",
   "id": "936a9e22",
   "metadata": {},
   "source": [
    "### Ratings"
   ]
  },
  {
   "cell_type": "code",
   "execution_count": 19,
   "id": "05c0938f",
   "metadata": {},
   "outputs": [
    {
     "name": "stderr",
     "output_type": "stream",
     "text": [
      "C:\\Users\\LENOVO\\AppData\\Local\\Temp\\ipykernel_18252\\1164707161.py:5: FutureWarning: \n",
      "\n",
      "Passing `palette` without assigning `hue` is deprecated and will be removed in v0.14.0. Assign the `x` variable to `hue` and set `legend=False` for the same effect.\n",
      "\n",
      "  ax = sns.barplot(x=rating_counts.index, y=rating_counts.values, palette='viridis', legend=False)\n"
     ]
    },
    {
     "data": {
      "image/png": "[encoded data removed]",
      "text/plain": [
       "<Figure size 1200x800 with 1 Axes>"
      ]
     },
     "metadata": {},
     "output_type": "display_data"
    }
   ],
   "source": [
    "plt.figure(figsize=(12, 8))\n",
    "\n",
    "# Menampilkan distribusi rating\n",
    "rating_counts = all_ratings['rating'].value_counts().sort_index()\n",
    "ax = sns.barplot(x=rating_counts.index, y=rating_counts.values, palette='viridis', legend=False)\n",
    "\n",
    "for i, count in enumerate(rating_counts.values):\n",
    "\tax.text(i, count + 500, f\"{count:,}\", ha='center', fontsize=10)\n",
    "\n",
    "# Menambahkan statisik\n",
    "mean_rating = all_ratings['rating'].mean()\n",
    "median_rating = all_ratings['rating'].median()\n",
    "total_ratings = len(all_ratings)\n",
    "\n",
    "plt.axvline(x=mean_rating-1, color='red', linestyle='--', linewidth=2, label=f'Mean: {mean_rating:.2f}')\n",
    "plt.axvline(x=median_rating-1, color='green', linestyle='--', linewidth=2, label=f'Median: {median_rating:.1f}')\n",
    "\n",
    "plt.title('Distribution of Movie Ratings', fontsize=16)\n",
    "plt.xlabel('Rating', fontsize=12)\n",
    "plt.ylabel('Number of Ratings', fontsize=12)\n",
    "plt.xticks(ticks=range(5), labels=['1', '2', '3', '4', '5'])\n",
    "\n",
    "plt.figtext(0.91, 0.85, f\"Total ratings: {total_ratings:,}\\nMean: {mean_rating:.2f}\\nMedian: {median_rating:.1f}\", \n",
    "\t\t\tbbox=dict(boxstyle=\"round,pad=0.5\", facecolor='white', alpha=0.8),\n",
    "\t\t\thorizontalalignment='right')\n",
    "\n",
    "plt.grid(axis='y', linestyle='--', alpha=0.7)\n",
    "plt.legend()\n",
    "plt.tight_layout()\n",
    "plt.show()"
   ]
  },
  {
   "cell_type": "markdown",
   "id": "c04e1d41",
   "metadata": {},
   "source": [
    "Visualisasi di atas menunjukkan distribusi *rating* dimana *rating* terendah ada di `1` dan *rating* tertinggi ada di `5` dengan rata-rata *rating* terdapat di `4`."
   ]
  },
  {
   "cell_type": "markdown",
   "id": "6c8e3e6e",
   "metadata": {},
   "source": [
    "## Data Preprocessing"
   ]
  },
  {
   "cell_type": "markdown",
   "id": "93956b75",
   "metadata": {},
   "source": [
    "### Menggabungkan Data"
   ]
  },
  {
   "cell_type": "markdown",
   "id": "998caa06",
   "metadata": {},
   "source": [
    "#### Content based data"
   ]
  },
  {
   "cell_type": "markdown",
   "id": "0beb795c",
   "metadata": {},
   "source": [
    "Karena proyek ini akan menggunakan [**TF-IDF**](https://scikit-learn.org/stable/modules/generated/sklearn.feature_extraction.text.TfidfVectorizer.html), kita akan menggabungkan semua *One-hot Encoded genre* yang terdapat pada data *movie* menjadi satu kolom bernama *genres* seperti `Animation Children's Comedy` atau `Action Advanture Thriller`."
   ]
  },
  {
   "cell_type": "code",
   "execution_count": 20,
   "id": "50176007",
   "metadata": {},
   "outputs": [],
   "source": [
    "# Membuat fungsi untuk menyiapkan data untuk rekomendasi berbasis konten\n",
    "def prepare_content_based_data():\n",
    "    movie_features = movies.copy()\n",
    "    \n",
    "    # Membuat variable genre untuk setiap genre yang ada\n",
    "    genre_columns = ['Action', 'Adventure', 'Animation', \"Children's\", 'Comedy', 'Crime', \n",
    "                     'Documentary', 'Drama', 'Fantasy', 'Film-Noir', 'Horror', 'Musical', \n",
    "                     'Mystery', 'Romance', 'Sci-Fi', 'Thriller', 'War', 'Western']\n",
    "    \n",
    "    # Mengubah genre menjadi one-hot encoding\n",
    "    content_df = movie_features[['movie_id', 'movie_title'] + genre_columns].copy()\n",
    "    \n",
    "    # Ubah kolom one-hot encoded genre menjadi kolom teks tunggal untuk pemrosesan TF-IDF\n",
    "    content_df['genres'] = content_df[genre_columns].apply(\n",
    "        lambda row: ' '.join([genre for genre, val in zip(genre_columns, row) if val == 1]), \n",
    "        axis=1\n",
    "    )\n",
    "    \n",
    "    # Mereset indeks untuk menghindari masalah saat menggabungkan dengan rating\n",
    "    content_df = content_df.reset_index(drop=True)\n",
    "    \n",
    "    return content_df, genre_columns"
   ]
  },
  {
   "cell_type": "code",
   "execution_count": 21,
   "id": "0341fd88",
   "metadata": {},
   "outputs": [
    {
     "data": {
      "text/html": [
       "<div>\n",
       "<style scoped>\n",
       "    .dataframe tbody tr th:only-of-type {\n",
       "        vertical-align: middle;\n",
       "    }\n",
       "\n",
       "    .dataframe tbody tr th {\n",
       "        vertical-align: top;\n",
       "    }\n",
       "\n",
       "    .dataframe thead th {\n",
       "        text-align: right;\n",
       "    }\n",
       "</style>\n",
       "<table border=\"1\" class=\"dataframe\">\n",
       "  <thead>\n",
       "    <tr style=\"text-align: right;\">\n",
       "      <th></th>\n",
       "      <th>movie_id</th>\n",
       "      <th>movie_title</th>\n",
       "      <th>Action</th>\n",
       "      <th>Adventure</th>\n",
       "      <th>Animation</th>\n",
       "      <th>Children's</th>\n",
       "      <th>Comedy</th>\n",
       "      <th>Crime</th>\n",
       "      <th>Documentary</th>\n",
       "      <th>Drama</th>\n",
       "      <th>...</th>\n",
       "      <th>Film-Noir</th>\n",
       "      <th>Horror</th>\n",
       "      <th>Musical</th>\n",
       "      <th>Mystery</th>\n",
       "      <th>Romance</th>\n",
       "      <th>Sci-Fi</th>\n",
       "      <th>Thriller</th>\n",
       "      <th>War</th>\n",
       "      <th>Western</th>\n",
       "      <th>genres</th>\n",
       "    </tr>\n",
       "  </thead>\n",
       "  <tbody>\n",
       "    <tr>\n",
       "      <th>0</th>\n",
       "      <td>1</td>\n",
       "      <td>Toy Story (1995)</td>\n",
       "      <td>0</td>\n",
       "      <td>0</td>\n",
       "      <td>1</td>\n",
       "      <td>1</td>\n",
       "      <td>1</td>\n",
       "      <td>0</td>\n",
       "      <td>0</td>\n",
       "      <td>0</td>\n",
       "      <td>...</td>\n",
       "      <td>0</td>\n",
       "      <td>0</td>\n",
       "      <td>0</td>\n",
       "      <td>0</td>\n",
       "      <td>0</td>\n",
       "      <td>0</td>\n",
       "      <td>0</td>\n",
       "      <td>0</td>\n",
       "      <td>0</td>\n",
       "      <td>Animation Children's Comedy</td>\n",
       "    </tr>\n",
       "    <tr>\n",
       "      <th>1</th>\n",
       "      <td>2</td>\n",
       "      <td>GoldenEye (1995)</td>\n",
       "      <td>1</td>\n",
       "      <td>1</td>\n",
       "      <td>0</td>\n",
       "      <td>0</td>\n",
       "      <td>0</td>\n",
       "      <td>0</td>\n",
       "      <td>0</td>\n",
       "      <td>0</td>\n",
       "      <td>...</td>\n",
       "      <td>0</td>\n",
       "      <td>0</td>\n",
       "      <td>0</td>\n",
       "      <td>0</td>\n",
       "      <td>0</td>\n",
       "      <td>0</td>\n",
       "      <td>1</td>\n",
       "      <td>0</td>\n",
       "      <td>0</td>\n",
       "      <td>Action Adventure Thriller</td>\n",
       "    </tr>\n",
       "    <tr>\n",
       "      <th>2</th>\n",
       "      <td>3</td>\n",
       "      <td>Four Rooms (1995)</td>\n",
       "      <td>0</td>\n",
       "      <td>0</td>\n",
       "      <td>0</td>\n",
       "      <td>0</td>\n",
       "      <td>0</td>\n",
       "      <td>0</td>\n",
       "      <td>0</td>\n",
       "      <td>0</td>\n",
       "      <td>...</td>\n",
       "      <td>0</td>\n",
       "      <td>0</td>\n",
       "      <td>0</td>\n",
       "      <td>0</td>\n",
       "      <td>0</td>\n",
       "      <td>0</td>\n",
       "      <td>1</td>\n",
       "      <td>0</td>\n",
       "      <td>0</td>\n",
       "      <td>Thriller</td>\n",
       "    </tr>\n",
       "    <tr>\n",
       "      <th>3</th>\n",
       "      <td>4</td>\n",
       "      <td>Get Shorty (1995)</td>\n",
       "      <td>1</td>\n",
       "      <td>0</td>\n",
       "      <td>0</td>\n",
       "      <td>0</td>\n",
       "      <td>1</td>\n",
       "      <td>0</td>\n",
       "      <td>0</td>\n",
       "      <td>1</td>\n",
       "      <td>...</td>\n",
       "      <td>0</td>\n",
       "      <td>0</td>\n",
       "      <td>0</td>\n",
       "      <td>0</td>\n",
       "      <td>0</td>\n",
       "      <td>0</td>\n",
       "      <td>0</td>\n",
       "      <td>0</td>\n",
       "      <td>0</td>\n",
       "      <td>Action Comedy Drama</td>\n",
       "    </tr>\n",
       "    <tr>\n",
       "      <th>4</th>\n",
       "      <td>5</td>\n",
       "      <td>Copycat (1995)</td>\n",
       "      <td>0</td>\n",
       "      <td>0</td>\n",
       "      <td>0</td>\n",
       "      <td>0</td>\n",
       "      <td>0</td>\n",
       "      <td>1</td>\n",
       "      <td>0</td>\n",
       "      <td>1</td>\n",
       "      <td>...</td>\n",
       "      <td>0</td>\n",
       "      <td>0</td>\n",
       "      <td>0</td>\n",
       "      <td>0</td>\n",
       "      <td>0</td>\n",
       "      <td>0</td>\n",
       "      <td>1</td>\n",
       "      <td>0</td>\n",
       "      <td>0</td>\n",
       "      <td>Crime Drama Thriller</td>\n",
       "    </tr>\n",
       "  </tbody>\n",
       "</table>\n",
       "<p>5 rows × 21 columns</p>\n",
       "</div>"
      ],
      "text/plain": [
       "   movie_id        movie_title  Action  Adventure  Animation  Children's  \\\n",
       "0         1   Toy Story (1995)       0          0          1           1   \n",
       "1         2   GoldenEye (1995)       1          1          0           0   \n",
       "2         3  Four Rooms (1995)       0          0          0           0   \n",
       "3         4  Get Shorty (1995)       1          0          0           0   \n",
       "4         5     Copycat (1995)       0          0          0           0   \n",
       "\n",
       "   Comedy  Crime  Documentary  Drama  ...  Film-Noir  Horror  Musical  \\\n",
       "0       1      0            0      0  ...          0       0        0   \n",
       "1       0      0            0      0  ...          0       0        0   \n",
       "2       0      0            0      0  ...          0       0        0   \n",
       "3       1      0            0      1  ...          0       0        0   \n",
       "4       0      1            0      1  ...          0       0        0   \n",
       "\n",
       "   Mystery  Romance  Sci-Fi  Thriller  War  Western  \\\n",
       "0        0        0       0         0    0        0   \n",
       "1        0        0       0         1    0        0   \n",
       "2        0        0       0         1    0        0   \n",
       "3        0        0       0         0    0        0   \n",
       "4        0        0       0         1    0        0   \n",
       "\n",
       "                        genres  \n",
       "0  Animation Children's Comedy  \n",
       "1    Action Adventure Thriller  \n",
       "2                     Thriller  \n",
       "3          Action Comedy Drama  \n",
       "4         Crime Drama Thriller  \n",
       "\n",
       "[5 rows x 21 columns]"
      ]
     },
     "execution_count": 21,
     "metadata": {},
     "output_type": "execute_result"
    }
   ],
   "source": [
    "# Memanggil fungsi dan menampilkan data\n",
    "content_data, genre_columns = prepare_content_based_data()\n",
    "content_data.head()"
   ]
  },
  {
   "cell_type": "markdown",
   "id": "128fa5d7",
   "metadata": {},
   "source": [
    "#### Collaborative data"
   ]
  },
  {
   "cell_type": "markdown",
   "id": "658f7549",
   "metadata": {},
   "source": [
    "Fungsi ini akan menyiapkan data untuk pendekatan *Collaborative Filtering*, dengan cara mencari kesamaan antara pengguna berdasarkan rating film yang telah mereka berikan."
   ]
  },
  {
   "cell_type": "code",
   "execution_count": 22,
   "id": "d860fe1f",
   "metadata": {},
   "outputs": [],
   "source": [
    "# membuat fungsi untuk menyiapkan data untuk rekomendasi berbasis kolaboratif\n",
    "def prepare_collaborative_data(ratings_data):\n",
    "    cf_data = ratings_data.copy()\n",
    "    \n",
    "    # Menggabungkan dengan data pengguna\n",
    "    cf_data_with_users = cf_data.merge(users[['user_id', 'age', 'sex', 'occupation']], on='user_id', how='left')\n",
    "    \n",
    "    # Menggabungkan dengan data film\n",
    "    cf_data_with_movies = cf_data_with_users.merge(\n",
    "        movies[['movie_id', 'movie_title']], \n",
    "        on='movie_id', \n",
    "        how='left'\n",
    "    )\n",
    "    \n",
    "    # Membuat matriks interaksi pengguna-item (matriks rating pengguna-item)\n",
    "    user_item_matrix = cf_data.pivot(index='user_id', columns='movie_id', values='rating')\n",
    "    \n",
    "    # Mendapatkan daftar semua ID pengguna dan ID film\n",
    "    user_ids = cf_data['user_id'].unique().tolist()\n",
    "    movie_ids = cf_data['movie_id'].unique().tolist()\n",
    "    \n",
    "    # Membuat pemetaan dari ID asli ke ID urutan (0 sampai n-1)\n",
    "    user_to_user_encoded = {x: i for i, x in enumerate(user_ids)}\n",
    "    movie_to_movie_encoded = {x: i for i, x in enumerate(movie_ids)}\n",
    "    \n",
    "    # Membuat pemetaan dari ID urutan kembali ke ID asli\n",
    "    user_encoded_to_user = {i: x for i, x in enumerate(user_ids)}\n",
    "    movie_encoded_to_movie = {i: x for i, x in enumerate(movie_ids)}\n",
    "    \n",
    "    # Mengkonversi rating ke skala 0-1 (normalisasi)\n",
    "    cf_data['rating'] = cf_data['rating'] / 5.0\n",
    "    \n",
    "    # Menggunakan ID terenkode untuk pengguna dan film\n",
    "    cf_data['user_encoded'] = cf_data['user_id'].map(user_to_user_encoded)\n",
    "    cf_data['movie_encoded'] = cf_data['movie_id'].map(movie_to_movie_encoded)\n",
    "    \n",
    "    return cf_data_with_movies, user_item_matrix, cf_data, user_encoded_to_user, movie_encoded_to_movie, len(user_ids), len(movie_ids)"
   ]
  },
  {
   "cell_type": "code",
   "execution_count": 23,
   "id": "d6c44953",
   "metadata": {},
   "outputs": [],
   "source": [
    "# Memanggil fungsi\n",
    "ratings_combined = pd.concat([ratings_base, ratings_test], ignore_index=True)\n",
    "cf_merged_data, user_item_matrix, cf_data_processed, user_encoded_to_user, movie_encoded_to_movie, num_users, num_movies = prepare_collaborative_data(ratings_combined)"
   ]
  },
  {
   "cell_type": "code",
   "execution_count": 24,
   "id": "4f7cd081",
   "metadata": {},
   "outputs": [
    {
     "data": {
      "text/html": [
       "<div>\n",
       "<style scoped>\n",
       "    .dataframe tbody tr th:only-of-type {\n",
       "        vertical-align: middle;\n",
       "    }\n",
       "\n",
       "    .dataframe tbody tr th {\n",
       "        vertical-align: top;\n",
       "    }\n",
       "\n",
       "    .dataframe thead th {\n",
       "        text-align: right;\n",
       "    }\n",
       "</style>\n",
       "<table border=\"1\" class=\"dataframe\">\n",
       "  <thead>\n",
       "    <tr style=\"text-align: right;\">\n",
       "      <th></th>\n",
       "      <th>user_id</th>\n",
       "      <th>movie_id</th>\n",
       "      <th>rating</th>\n",
       "      <th>unix_timestamp</th>\n",
       "      <th>user_encoded</th>\n",
       "      <th>movie_encoded</th>\n",
       "    </tr>\n",
       "  </thead>\n",
       "  <tbody>\n",
       "    <tr>\n",
       "      <th>0</th>\n",
       "      <td>1</td>\n",
       "      <td>1</td>\n",
       "      <td>1.0</td>\n",
       "      <td>874965758</td>\n",
       "      <td>0</td>\n",
       "      <td>0</td>\n",
       "    </tr>\n",
       "    <tr>\n",
       "      <th>1</th>\n",
       "      <td>1</td>\n",
       "      <td>2</td>\n",
       "      <td>0.6</td>\n",
       "      <td>876893171</td>\n",
       "      <td>0</td>\n",
       "      <td>1</td>\n",
       "    </tr>\n",
       "    <tr>\n",
       "      <th>2</th>\n",
       "      <td>1</td>\n",
       "      <td>3</td>\n",
       "      <td>0.8</td>\n",
       "      <td>878542960</td>\n",
       "      <td>0</td>\n",
       "      <td>2</td>\n",
       "    </tr>\n",
       "    <tr>\n",
       "      <th>3</th>\n",
       "      <td>1</td>\n",
       "      <td>4</td>\n",
       "      <td>0.6</td>\n",
       "      <td>876893119</td>\n",
       "      <td>0</td>\n",
       "      <td>3</td>\n",
       "    </tr>\n",
       "    <tr>\n",
       "      <th>4</th>\n",
       "      <td>1</td>\n",
       "      <td>5</td>\n",
       "      <td>0.6</td>\n",
       "      <td>889751712</td>\n",
       "      <td>0</td>\n",
       "      <td>4</td>\n",
       "    </tr>\n",
       "  </tbody>\n",
       "</table>\n",
       "</div>"
      ],
      "text/plain": [
       "   user_id  movie_id  rating  unix_timestamp  user_encoded  movie_encoded\n",
       "0        1         1     1.0       874965758             0              0\n",
       "1        1         2     0.6       876893171             0              1\n",
       "2        1         3     0.8       878542960             0              2\n",
       "3        1         4     0.6       876893119             0              3\n",
       "4        1         5     0.6       889751712             0              4"
      ]
     },
     "execution_count": 24,
     "metadata": {},
     "output_type": "execute_result"
    }
   ],
   "source": [
    "# Menampilkan 5 data teratas `cf_data_processed`\n",
    "cf_data_processed.head()"
   ]
  },
  {
   "cell_type": "markdown",
   "id": "4ad79952",
   "metadata": {},
   "source": [
    "## Data Preparation"
   ]
  },
  {
   "cell_type": "markdown",
   "id": "eb729483",
   "metadata": {},
   "source": [
    "### Mengatasi missing value"
   ]
  },
  {
   "cell_type": "code",
   "execution_count": 25,
   "id": "27c3c8c9",
   "metadata": {},
   "outputs": [
    {
     "data": {
      "text/plain": [
       "movie_id       0\n",
       "movie_title    0\n",
       "Action         0\n",
       "Adventure      0\n",
       "Animation      0\n",
       "Children's     0\n",
       "Comedy         0\n",
       "Crime          0\n",
       "Documentary    0\n",
       "Drama          0\n",
       "Fantasy        0\n",
       "Film-Noir      0\n",
       "Horror         0\n",
       "Musical        0\n",
       "Mystery        0\n",
       "Romance        0\n",
       "Sci-Fi         0\n",
       "Thriller       0\n",
       "War            0\n",
       "Western        0\n",
       "genres         0\n",
       "dtype: int64"
      ]
     },
     "execution_count": 25,
     "metadata": {},
     "output_type": "execute_result"
    }
   ],
   "source": [
    "# Mengecek apakah ada nilai yang hilang dalam data\n",
    "content_data.isnull().sum()"
   ]
  },
  {
   "cell_type": "code",
   "execution_count": 26,
   "id": "b6e20a9a",
   "metadata": {},
   "outputs": [
    {
     "data": {
      "text/plain": [
       "user_id            0\n",
       "movie_id           0\n",
       "rating             0\n",
       "unix_timestamp     0\n",
       "age                0\n",
       "sex                0\n",
       "occupation         0\n",
       "movie_title       10\n",
       "dtype: int64"
      ]
     },
     "execution_count": 26,
     "metadata": {},
     "output_type": "execute_result"
    }
   ],
   "source": [
    "# Mengecek apakah ada nilai yang hilang dalam data\n",
    "cf_merged_data.isnull().sum()"
   ]
  },
  {
   "cell_type": "markdown",
   "id": "7122ea5a",
   "metadata": {},
   "source": [
    "## Content Based Filtering"
   ]
  },
  {
   "cell_type": "code",
   "execution_count": 27,
   "id": "f599fda4",
   "metadata": {},
   "outputs": [],
   "source": [
    "# Membuat matriks TF-IDF untuk genre\n",
    "tfidf = TfidfVectorizer()\n",
    "tfidf_matrix = tfidf.fit_transform(content_data['genres'])\n",
    "cosine_sim = cosine_similarity(tfidf_matrix, tfidf_matrix)"
   ]
  },
  {
   "cell_type": "code",
   "execution_count": 28,
   "id": "79666180",
   "metadata": {},
   "outputs": [
    {
     "data": {
      "text/html": [
       "<div>\n",
       "<style scoped>\n",
       "    .dataframe tbody tr th:only-of-type {\n",
       "        vertical-align: middle;\n",
       "    }\n",
       "\n",
       "    .dataframe tbody tr th {\n",
       "        vertical-align: top;\n",
       "    }\n",
       "\n",
       "    .dataframe thead th {\n",
       "        text-align: right;\n",
       "    }\n",
       "</style>\n",
       "<table border=\"1\" class=\"dataframe\">\n",
       "  <thead>\n",
       "    <tr style=\"text-align: right;\">\n",
       "      <th></th>\n",
       "      <th>animation</th>\n",
       "      <th>drama</th>\n",
       "      <th>crime</th>\n",
       "      <th>romance</th>\n",
       "      <th>fantasy</th>\n",
       "      <th>adventure</th>\n",
       "      <th>horror</th>\n",
       "      <th>action</th>\n",
       "      <th>sci</th>\n",
       "      <th>film</th>\n",
       "    </tr>\n",
       "    <tr>\n",
       "      <th>movie_title</th>\n",
       "      <th></th>\n",
       "      <th></th>\n",
       "      <th></th>\n",
       "      <th></th>\n",
       "      <th></th>\n",
       "      <th></th>\n",
       "      <th></th>\n",
       "      <th></th>\n",
       "      <th></th>\n",
       "      <th></th>\n",
       "    </tr>\n",
       "  </thead>\n",
       "  <tbody>\n",
       "    <tr>\n",
       "      <th>Run of the Country, The (1995)</th>\n",
       "      <td>0.0</td>\n",
       "      <td>1.000000</td>\n",
       "      <td>0.0000</td>\n",
       "      <td>0.000000</td>\n",
       "      <td>0.0</td>\n",
       "      <td>0.0</td>\n",
       "      <td>0.0</td>\n",
       "      <td>0.0</td>\n",
       "      <td>0.000000</td>\n",
       "      <td>0.000000</td>\n",
       "    </tr>\n",
       "    <tr>\n",
       "      <th>Sleepers (1996)</th>\n",
       "      <td>0.0</td>\n",
       "      <td>0.442638</td>\n",
       "      <td>0.8967</td>\n",
       "      <td>0.000000</td>\n",
       "      <td>0.0</td>\n",
       "      <td>0.0</td>\n",
       "      <td>0.0</td>\n",
       "      <td>0.0</td>\n",
       "      <td>0.000000</td>\n",
       "      <td>0.000000</td>\n",
       "    </tr>\n",
       "    <tr>\n",
       "      <th>Blade Runner (1982)</th>\n",
       "      <td>0.0</td>\n",
       "      <td>0.000000</td>\n",
       "      <td>0.0000</td>\n",
       "      <td>0.000000</td>\n",
       "      <td>0.0</td>\n",
       "      <td>0.0</td>\n",
       "      <td>0.0</td>\n",
       "      <td>0.0</td>\n",
       "      <td>0.416928</td>\n",
       "      <td>0.571114</td>\n",
       "    </tr>\n",
       "    <tr>\n",
       "      <th>How to Make an American Quilt (1995)</th>\n",
       "      <td>0.0</td>\n",
       "      <td>0.533859</td>\n",
       "      <td>0.0000</td>\n",
       "      <td>0.845574</td>\n",
       "      <td>0.0</td>\n",
       "      <td>0.0</td>\n",
       "      <td>0.0</td>\n",
       "      <td>0.0</td>\n",
       "      <td>0.000000</td>\n",
       "      <td>0.000000</td>\n",
       "    </tr>\n",
       "    <tr>\n",
       "      <th>Adventures of Priscilla, Queen of the Desert, The (1994)</th>\n",
       "      <td>0.0</td>\n",
       "      <td>0.641368</td>\n",
       "      <td>0.0000</td>\n",
       "      <td>0.000000</td>\n",
       "      <td>0.0</td>\n",
       "      <td>0.0</td>\n",
       "      <td>0.0</td>\n",
       "      <td>0.0</td>\n",
       "      <td>0.000000</td>\n",
       "      <td>0.000000</td>\n",
       "    </tr>\n",
       "  </tbody>\n",
       "</table>\n",
       "</div>"
      ],
      "text/plain": [
       "                                                    animation     drama  \\\n",
       "movie_title                                                               \n",
       "Run of the Country, The (1995)                            0.0  1.000000   \n",
       "Sleepers (1996)                                           0.0  0.442638   \n",
       "Blade Runner (1982)                                       0.0  0.000000   \n",
       "How to Make an American Quilt (1995)                      0.0  0.533859   \n",
       "Adventures of Priscilla, Queen of the Desert, T...        0.0  0.641368   \n",
       "\n",
       "                                                     crime   romance  fantasy  \\\n",
       "movie_title                                                                     \n",
       "Run of the Country, The (1995)                      0.0000  0.000000      0.0   \n",
       "Sleepers (1996)                                     0.8967  0.000000      0.0   \n",
       "Blade Runner (1982)                                 0.0000  0.000000      0.0   \n",
       "How to Make an American Quilt (1995)                0.0000  0.845574      0.0   \n",
       "Adventures of Priscilla, Queen of the Desert, T...  0.0000  0.000000      0.0   \n",
       "\n",
       "                                                    adventure  horror  action  \\\n",
       "movie_title                                                                     \n",
       "Run of the Country, The (1995)                            0.0     0.0     0.0   \n",
       "Sleepers (1996)                                           0.0     0.0     0.0   \n",
       "Blade Runner (1982)                                       0.0     0.0     0.0   \n",
       "How to Make an American Quilt (1995)                      0.0     0.0     0.0   \n",
       "Adventures of Priscilla, Queen of the Desert, T...        0.0     0.0     0.0   \n",
       "\n",
       "                                                         sci      film  \n",
       "movie_title                                                             \n",
       "Run of the Country, The (1995)                      0.000000  0.000000  \n",
       "Sleepers (1996)                                     0.000000  0.000000  \n",
       "Blade Runner (1982)                                 0.416928  0.571114  \n",
       "How to Make an American Quilt (1995)                0.000000  0.000000  \n",
       "Adventures of Priscilla, Queen of the Desert, T...  0.000000  0.000000  "
      ]
     },
     "execution_count": 28,
     "metadata": {},
     "output_type": "execute_result"
    }
   ],
   "source": [
    "# Menampilkan matriks TF-IDF\n",
    "pd.DataFrame(\n",
    "    tfidf_matrix.todense(),\n",
    "    columns=tfidf.get_feature_names_out(),\n",
    "    index=content_data['movie_title']\n",
    ").sample(10, axis=1).sample(5, axis=0)"
   ]
  },
  {
   "cell_type": "code",
   "execution_count": 29,
   "id": "2aa85d8a",
   "metadata": {},
   "outputs": [],
   "source": [
    "# Membuat fungsi untuk merekomendasikan film berdasarkan judul\n",
    "def recommend(title, cosine_sim=cosine_sim, k=10):\n",
    "    # Membuat pemetaan dari judul film ke indeks\n",
    "    indices = pd.Series(content_data.index, index=content_data['movie_title']).drop_duplicates()\n",
    "    \n",
    "    try:\n",
    "        # Mendapatkan indeks film yang sesuai dengan judul\n",
    "        idx = indices[title]\n",
    "        \n",
    "        # Memeriksa apakah indeks berada dalam rentang yang valid\n",
    "        if idx >= len(cosine_sim):\n",
    "            print(f\"Movie index {idx} is out of bounds (max valid index: {len(cosine_sim)-1})\")\n",
    "            return []\n",
    "            \n",
    "        print(f\"Movie index: {idx}\")\n",
    "        \n",
    "        # Mendapatkan skor kesamaan untuk semua film dengan film target\n",
    "        sim_scores = list(enumerate(cosine_sim[idx]))\n",
    "        sim_scores = sorted(sim_scores, key=lambda x: x[1], reverse=True)\n",
    "        sim_scores = sim_scores[1:k+1]  # Mendapatkan k film serupa teratas kecuali film itu sendiri\n",
    "        \n",
    "        # Mendapatkan genre film target\n",
    "        target_genres = set([genre for genre in genre_columns if content_data.iloc[idx][genre] == 1])\n",
    "        \n",
    "        # Menghitung precision@k\n",
    "        relevant_count = 0\n",
    "        \n",
    "        # Mendapatkan indeks film dan menghitung precision@k\n",
    "        recommendations = []\n",
    "        for i, score in sim_scores:\n",
    "            movie_genres = set([genre for genre in genre_columns if content_data.iloc[i][genre] == 1])\n",
    "            # Dianggap relevan jika ada kesamaan genre\n",
    "            is_relevant = len(target_genres.intersection(movie_genres)) > 0\n",
    "            if is_relevant:\n",
    "                relevant_count += 1\n",
    "            \n",
    "            # Mendapatkan genre utama (pertama) dari film yang direkomendasikan\n",
    "            main_genre = next(iter(movie_genres)) if movie_genres else \"Unknown\"\n",
    "            \n",
    "            recommendations.append({\n",
    "                'movie_id': content_data.iloc[i]['movie_id'],\n",
    "                'title': content_data.iloc[i]['movie_title'],\n",
    "                'genre': main_genre,\n",
    "                'similarity': round(score, 4),\n",
    "                'is_relevant': is_relevant\n",
    "            })\n",
    "        \n",
    "        precision_k = relevant_count / k if k > 0 else 0\n",
    "        \n",
    "        return {\n",
    "            'recommendations': recommendations,\n",
    "            'precision_at_k': precision_k,\n",
    "            'k': k,\n",
    "            'target_genres': target_genres\n",
    "        }\n",
    "    except KeyError:\n",
    "        print(f\"Movie '{title}' not found in the dataset.\")\n",
    "        return []\n",
    "    except IndexError as e:\n",
    "        print(f\"Index error: {e}. Movie index {idx} may be out of range.\")\n",
    "        return []\n",
    "    except Exception as e:\n",
    "        print(f\"Error recommending movies: {str(e)}\")\n",
    "        return []"
   ]
  },
  {
   "cell_type": "code",
   "execution_count": 30,
   "id": "b02a89ae",
   "metadata": {},
   "outputs": [],
   "source": [
    "# Membuat fungsi untuk menampilkan rekomendasi film dalam format tabel\n",
    "def display_recommendations(recommendations_result, title):\n",
    "    if not isinstance(recommendations_result, dict) or 'recommendations' not in recommendations_result:\n",
    "        print(\"No valid recommendations to display.\")\n",
    "        return\n",
    "    \n",
    "    # Membuat DataFrame untuk menampilkan rekomendasi\n",
    "    df = pd.DataFrame(recommendations_result['recommendations'])\n",
    "    \n",
    "    # Menambahkan nomor indeks untuk tampilan yang lebih baik\n",
    "    df.index = range(1, len(df) + 1)\n",
    "    \n",
    "    # Mengatur urutan kolom\n",
    "    df = df[['title', 'genre', 'similarity']]\n",
    "    \n",
    "    print(f\"\\nRecommendations for '{title}':\")\n",
    "    print(f\"Target genres: {', '.join(recommendations_result['target_genres'])}\")\n",
    "    print(f\"\\nPrecision@{recommendations_result['k']}: {recommendations_result['precision_at_k']:.2f}\")\n",
    "    print(\"\\n\" + \"-\"*70)\n",
    "    print(df.to_string())\n",
    "    print(\"-\"*70)\n",
    "    \n",
    "    return df"
   ]
  },
  {
   "cell_type": "code",
   "execution_count": 31,
   "id": "d3d61856",
   "metadata": {},
   "outputs": [],
   "source": [
    "# Membuat fungsi untuk menampilkan rekomendasi film\n",
    "def visualize_recommendation(movie_title, recommendations_result, content_data):\n",
    "    try:\n",
    "        if not isinstance(recommendations_result, dict) or 'recommendations' not in recommendations_result:\n",
    "            print(\"No valid recommendations to visualize.\")\n",
    "            return\n",
    "            \n",
    "        movie_idx = content_data[content_data['movie_title'] == movie_title].index[0]\n",
    "        source_movie = content_data.iloc[movie_idx]\n",
    "        \n",
    "        # Mendapatkan rekomendasi\n",
    "        recommendations = recommendations_result['recommendations']\n",
    "        \n",
    "        rec_count = min(5, len(recommendations))\n",
    "        movie_ids = [source_movie['movie_id']] + [rec['movie_id'] for rec in recommendations[:rec_count]]\n",
    "        movies_to_compare = content_data[content_data['movie_id'].isin(movie_ids)]\n",
    "\n",
    "        plt.figure(figsize=(12, 8))\n",
    "        genre_profiles = movies_to_compare.set_index('movie_title')[genre_columns]\n",
    "\n",
    "        sns.heatmap(genre_profiles.astype(float), cmap='viridis', cbar_kws={'label': 'Genre Present'})\n",
    "\n",
    "        plt.title(f'Genre Profile Comparison: {movie_title} and Similar Movies', fontsize=15)\n",
    "        plt.xlabel('Genres', fontsize=12)\n",
    "        plt.ylabel('Movies', fontsize=12)\n",
    "        plt.tight_layout()\n",
    "        plt.show()\n",
    "        \n",
    "    except IndexError:\n",
    "        print(f\"Movie '{movie_title}' not found.\")\n",
    "        return\n",
    "    except Exception as e:\n",
    "        print(f\"Error visualizing recommendations: {str(e)}\")"
   ]
  },
  {
   "cell_type": "markdown",
   "id": "cbdaeb1d",
   "metadata": {},
   "source": [
    "### Testing"
   ]
  },
  {
   "cell_type": "code",
   "execution_count": 32,
   "id": "1b62254b",
   "metadata": {},
   "outputs": [
    {
     "name": "stdout",
     "output_type": "stream",
     "text": [
      "Movie index: 0\n",
      "\n",
      "Recommendations for 'Toy Story (1995)':\n",
      "Target genres: Comedy, Animation, Children's\n",
      "\n",
      "Precision@10: 1.00\n",
      "\n",
      "----------------------------------------------------------------------\n",
      "                                                            title      genre  similarity\n",
      "1                          Aladdin and the King of Thieves (1996)     Comedy       1.000\n",
      "2                                          Aristocats, The (1970)  Animation       0.937\n",
      "3                                                Pinocchio (1940)  Animation       0.937\n",
      "4                                  Sword in the Stone, The (1963)  Animation       0.937\n",
      "5                                   Fox and the Hound, The (1981)  Animation       0.937\n",
      "6                     Winnie the Pooh and the Blustery Day (1968)  Animation       0.937\n",
      "7                                                    Balto (1995)  Animation       0.937\n",
      "8                                         Oliver & Company (1988)  Animation       0.937\n",
      "9                                       Swan Princess, The (1994)  Animation       0.937\n",
      "10  Land Before Time III: The Time of the Great Giving (1995) (V)  Animation       0.937\n",
      "----------------------------------------------------------------------\n"
     ]
    },
    {
     "data": {
      "image/png": "[encoded data removed]",
      "text/plain": [
       "<Figure size 1200x800 with 2 Axes>"
      ]
     },
     "metadata": {},
     "output_type": "display_data"
    }
   ],
   "source": [
    "# Example of how to use the updated recommend function\n",
    "movie_title = \"Toy Story (1995)\"\n",
    "toy_story_results = recommend(movie_title, k=10)\n",
    "\n",
    "# Menampilkan rekomendasi dalam format tabel\n",
    "display_recommendations(toy_story_results, movie_title)\n",
    "\n",
    "# Memvisualisasikan rekomendasi untuk Toy Story\n",
    "visualize_recommendation(movie_title, toy_story_results, content_data)"
   ]
  },
  {
   "cell_type": "markdown",
   "id": "be5e00c8",
   "metadata": {},
   "source": [
    "Visualisasi menunjukkan bahwa film **Toy Story (1995)** memiliki 3 *genre* yaitu `Comedy, Animation, Children's` dimana film **Aladdin and the King of Thieves (1996)** memiliki 3 *genre* yang sama. Sedangkan film yang lain hanya memiliki 2 *genre* yang sama, maka dari itu *cosine similarity* hanya memiliki score `0.937`."
   ]
  },
  {
   "cell_type": "code",
   "execution_count": 33,
   "id": "32282de2",
   "metadata": {},
   "outputs": [
    {
     "name": "stdout",
     "output_type": "stream",
     "text": [
      "Movie index: 1678\n",
      "\n",
      "Recommendations for 'You So Crazy (1994)':\n",
      "Target genres: Comedy\n",
      "\n",
      "Precision@10: 1.00\n",
      "\n",
      "----------------------------------------------------------------------\n",
      "                                                      title   genre  similarity\n",
      "1                                      Birdcage, The (1996)  Comedy         1.0\n",
      "2                             Brothers McMullen, The (1995)  Comedy         1.0\n",
      "3   To Wong Foo, Thanks for Everything! Julie Newmar (1995)  Comedy         1.0\n",
      "4                                      Billy Madison (1995)  Comedy         1.0\n",
      "5                                             Clerks (1994)  Comedy         1.0\n",
      "6                         Ace Ventura: Pet Detective (1994)  Comedy         1.0\n",
      "7                                           Ref, The (1994)  Comedy         1.0\n",
      "8                                       Theodore Rex (1995)  Comedy         1.0\n",
      "9                                         Sgt. Bilko (1996)  Comedy         1.0\n",
      "10                     Kids in the Hall: Brain Candy (1996)  Comedy         1.0\n",
      "----------------------------------------------------------------------\n"
     ]
    },
    {
     "data": {
      "image/png": "[encoded data removed]",
      "text/plain": [
       "<Figure size 1200x800 with 2 Axes>"
      ]
     },
     "metadata": {},
     "output_type": "display_data"
    }
   ],
   "source": [
    "# Example of how to use the updated recommend function\n",
    "movie_title = \"You So Crazy (1994)\"\n",
    "you_so_crazy_results = recommend(movie_title, k=10)\n",
    "\n",
    "# Menampilkan rekomendasi dalam format tabel\n",
    "display_recommendations(you_so_crazy_results, movie_title)\n",
    "\n",
    "# Memvisualisasikan rekomendasi untuk Toy Story\n",
    "visualize_recommendation(movie_title, you_so_crazy_results, content_data)"
   ]
  },
  {
   "cell_type": "markdown",
   "id": "a3c5793d",
   "metadata": {},
   "source": [
    "Visualisasi menunjukkan bahwa film **You So Crazy (1994)** memiliki 1 *genre* saja, yaitu `Comedy` dimana semua 10 film memiliki *genre* yang sama. Maka dari itu semua film memiliki score *cosine similarity* `1.0`."
   ]
  },
  {
   "cell_type": "markdown",
   "id": "c4b5f0dc",
   "metadata": {},
   "source": [
    "## Collaborative Filtering"
   ]
  },
  {
   "cell_type": "markdown",
   "id": "8217140e",
   "metadata": {},
   "source": [
    "Data akan dibagi menjadi data latih dan data uji menggunakan [*train_test_split*](https://scikit-learn.org/stable/modules/generated/sklearn.model_selection.train_test_split.html) dari data yang telah dibagun pada bagan *data preprocessing*."
   ]
  },
  {
   "cell_type": "code",
   "execution_count": 34,
   "id": "2eebb288",
   "metadata": {},
   "outputs": [
    {
     "name": "stdout",
     "output_type": "stream",
     "text": [
      "Training samples: 80000, Validation samples: 20000\n"
     ]
    }
   ],
   "source": [
    "# Memisahakan data menjadi data pelatihan dan validasi\n",
    "x = cf_data_processed[['user_encoded', 'movie_encoded']].values\n",
    "y = cf_data_processed['rating'].values\n",
    "\n",
    "x_train, x_val, y_train, y_val = train_test_split(x, y, test_size=0.2, random_state=42)\n",
    "print(f\"Training samples: {len(x_train)}, Validation samples: {len(x_val)}\")"
   ]
  },
  {
   "cell_type": "markdown",
   "id": "2e1bfd96",
   "metadata": {},
   "source": [
    "Kelas yang akan dibagun akan menggunakan [*Keras Model Class*](https://keras.io/api/models/model/) yang terinspirasi dari [*Collaborative Filtering MovieLens* dari Keras](https://keras.io/examples/structured_data/collaborative_filtering_movielens/)."
   ]
  },
  {
   "cell_type": "code",
   "execution_count": 35,
   "id": "c3e39c8f",
   "metadata": {},
   "outputs": [],
   "source": [
    "# Membuat model rekomendasi berbasis kolaboratif menggunakan TensorFlow\n",
    "class RecommenderNet(tf.keras.Model):\n",
    "    def __init__(self, num_users, num_movies, embedding_size, **kwargs):\n",
    "        super(RecommenderNet, self).__init__(**kwargs)\n",
    "        self.num_users = num_users\n",
    "        self.num_movies = num_movies\n",
    "        self.embedding_size = embedding_size\n",
    "        \n",
    "        # User embedding layer\n",
    "        self.user_embedding = layers.Embedding(\n",
    "            num_users,\n",
    "            embedding_size,\n",
    "            embeddings_initializer='he_normal',\n",
    "            embeddings_regularizer=regularizers.l2(1e-6),\n",
    "            name=\"user_embedding\"\n",
    "        )\n",
    "        \n",
    "        # User bias layer\n",
    "        self.user_bias = layers.Embedding(\n",
    "            num_users, \n",
    "            1,\n",
    "            embeddings_initializer='zeros',\n",
    "            name=\"user_bias\"\n",
    "        )\n",
    "        \n",
    "        # Movie embedding layer\n",
    "        self.movie_embedding = layers.Embedding(\n",
    "            num_movies,\n",
    "            embedding_size,\n",
    "            embeddings_initializer='he_normal',\n",
    "            embeddings_regularizer=regularizers.l2(1e-6),\n",
    "            name=\"movie_embedding\"\n",
    "        )\n",
    "        \n",
    "        # Movie bias layer\n",
    "        self.movie_bias = layers.Embedding(\n",
    "            num_movies, \n",
    "            1,\n",
    "            embeddings_initializer='zeros',\n",
    "            name=\"movie_bias\"\n",
    "        )\n",
    "    \n",
    "    def call(self, inputs):\n",
    "        # Ekstrak indeks pengguna dan film dari input\n",
    "        user_vector = self.user_embedding(inputs[:, 0])\n",
    "        user_bias = self.user_bias(inputs[:, 0])\n",
    "        \n",
    "        movie_vector = self.movie_embedding(inputs[:, 1])\n",
    "        movie_bias = self.movie_bias(inputs[:, 1])\n",
    "        \n",
    "        # Menghitung dot product antara embedding pengguna dan film\n",
    "        dot_user_movie = tf.tensordot(user_vector, movie_vector, 2)\n",
    "        \n",
    "        # Menambahkan semua komponen (dot product + bias)\n",
    "        x = dot_user_movie + user_bias + movie_bias\n",
    "        \n",
    "        # Menerapkan sigmoid untuk membatasi rating dalam rentang [0, 1]\n",
    "        return tf.nn.sigmoid(x)"
   ]
  },
  {
   "cell_type": "markdown",
   "id": "4e4aafde",
   "metadata": {},
   "source": [
    "*Compiling* terhadap kelas model yang dibangun"
   ]
  },
  {
   "cell_type": "code",
   "execution_count": 36,
   "id": "e2c9c2d6",
   "metadata": {},
   "outputs": [],
   "source": [
    "# Membuat dan mengkompilasi model\n",
    "model = RecommenderNet(num_users, num_movies, 50)\n",
    "model.compile(\n",
    "    loss=tf.keras.losses.MeanSquaredError(),\n",
    "    optimizer=tf.keras.optimizers.Adam(learning_rate=0.001),\n",
    "    metrics=[tf.keras.metrics.RootMeanSquaredError()]\n",
    ")"
   ]
  },
  {
   "cell_type": "markdown",
   "id": "860b0de6",
   "metadata": {},
   "source": [
    "Membangun *Callbacks* jika tidak terdapat peningkatan terhadap `val_root_mean_squared_error` dengan *patience* 5 dan melatih model"
   ]
  },
  {
   "cell_type": "code",
   "execution_count": 37,
   "id": "5fe21a00",
   "metadata": {},
   "outputs": [
    {
     "name": "stdout",
     "output_type": "stream",
     "text": [
      "Epoch 1/100\n",
      "\u001b[1m1250/1250\u001b[0m \u001b[32m━━━━━━━━━━━━━━━━━━━━\u001b[0m\u001b[37m\u001b[0m \u001b[1m4s\u001b[0m 2ms/step - loss: 0.0725 - root_mean_squared_error: 0.2681 - val_loss: 0.0442 - val_root_mean_squared_error: 0.2097\n",
      "Epoch 2/100\n",
      "\u001b[1m1250/1250\u001b[0m \u001b[32m━━━━━━━━━━━━━━━━━━━━\u001b[0m\u001b[37m\u001b[0m \u001b[1m3s\u001b[0m 2ms/step - loss: 0.0436 - root_mean_squared_error: 0.2083 - val_loss: 0.0442 - val_root_mean_squared_error: 0.2098\n",
      "Epoch 3/100\n",
      "\u001b[1m1250/1250\u001b[0m \u001b[32m━━━━━━━━━━━━━━━━━━━━\u001b[0m\u001b[37m\u001b[0m \u001b[1m3s\u001b[0m 2ms/step - loss: 0.0399 - root_mean_squared_error: 0.1993 - val_loss: 0.0411 - val_root_mean_squared_error: 0.2019\n",
      "Epoch 4/100\n",
      "\u001b[1m1250/1250\u001b[0m \u001b[32m━━━━━━━━━━━━━━━━━━━━\u001b[0m\u001b[37m\u001b[0m \u001b[1m3s\u001b[0m 2ms/step - loss: 0.0388 - root_mean_squared_error: 0.1962 - val_loss: 0.0397 - val_root_mean_squared_error: 0.1983\n",
      "Epoch 5/100\n",
      "\u001b[1m1250/1250\u001b[0m \u001b[32m━━━━━━━━━━━━━━━━━━━━\u001b[0m\u001b[37m\u001b[0m \u001b[1m3s\u001b[0m 2ms/step - loss: 0.0385 - root_mean_squared_error: 0.1953 - val_loss: 0.0389 - val_root_mean_squared_error: 0.1960\n",
      "Epoch 6/100\n",
      "\u001b[1m1250/1250\u001b[0m \u001b[32m━━━━━━━━━━━━━━━━━━━━\u001b[0m\u001b[37m\u001b[0m \u001b[1m3s\u001b[0m 2ms/step - loss: 0.0390 - root_mean_squared_error: 0.1963 - val_loss: 0.0397 - val_root_mean_squared_error: 0.1980\n",
      "Epoch 7/100\n",
      "\u001b[1m1250/1250\u001b[0m \u001b[32m━━━━━━━━━━━━━━━━━━━━\u001b[0m\u001b[37m\u001b[0m \u001b[1m3s\u001b[0m 2ms/step - loss: 0.0396 - root_mean_squared_error: 0.1978 - val_loss: 0.0395 - val_root_mean_squared_error: 0.1973\n",
      "Epoch 8/100\n",
      "\u001b[1m1250/1250\u001b[0m \u001b[32m━━━━━━━━━━━━━━━━━━━━\u001b[0m\u001b[37m\u001b[0m \u001b[1m3s\u001b[0m 2ms/step - loss: 0.0388 - root_mean_squared_error: 0.1956 - val_loss: 0.0406 - val_root_mean_squared_error: 0.2000\n",
      "Epoch 9/100\n",
      "\u001b[1m1250/1250\u001b[0m \u001b[32m━━━━━━━━━━━━━━━━━━━━\u001b[0m\u001b[37m\u001b[0m \u001b[1m3s\u001b[0m 2ms/step - loss: 0.0395 - root_mean_squared_error: 0.1972 - val_loss: 0.0401 - val_root_mean_squared_error: 0.1987\n",
      "Epoch 10/100\n",
      "\u001b[1m1250/1250\u001b[0m \u001b[32m━━━━━━━━━━━━━━━━━━━━\u001b[0m\u001b[37m\u001b[0m \u001b[1m3s\u001b[0m 2ms/step - loss: 0.0403 - root_mean_squared_error: 0.1991 - val_loss: 0.0398 - val_root_mean_squared_error: 0.1977\n"
     ]
    }
   ],
   "source": [
    "# Early stopping untuk menghentikan pelatihan jika tidak ada peningkatan\n",
    "early_stopping = tf.keras.callbacks.EarlyStopping(\n",
    "    monitor='val_root_mean_squared_error',\n",
    "    patience=5,\n",
    "    restore_best_weights=True\n",
    ")\n",
    "\n",
    "# Melatih model\n",
    "history = model.fit(\n",
    "    x=x_train,\n",
    "    y=y_train,\n",
    "    batch_size=64,\n",
    "    epochs=100,\n",
    "    validation_data=(x_val, y_val),\n",
    "    callbacks=[early_stopping]\n",
    ")"
   ]
  },
  {
   "cell_type": "code",
   "execution_count": 38,
   "id": "7c042eb7",
   "metadata": {},
   "outputs": [
    {
     "data": {
      "image/png": "[encoded data removed]",
      "text/plain": [
       "<Figure size 1200x400 with 2 Axes>"
      ]
     },
     "metadata": {},
     "output_type": "display_data"
    }
   ],
   "source": [
    "# Menampilkan grafik pelatihan\n",
    "plt.figure(figsize=(12, 4))\n",
    "\n",
    "# Mendapatkan epoch dengan RMSE validasi terendah (model terbaik)\n",
    "best_epoch = np.argmin(history.history['val_root_mean_squared_error'])\n",
    "\n",
    "plt.subplot(1, 2, 1)\n",
    "plt.plot(history.history['root_mean_squared_error'], '-')\n",
    "plt.plot(history.history['val_root_mean_squared_error'], '-')\n",
    "plt.plot(best_epoch, history.history['val_root_mean_squared_error'][best_epoch], 'ro', markersize=8)\n",
    "plt.title('Model RMSE')\n",
    "plt.ylabel('RMSE')\n",
    "plt.xlabel('Epoch')\n",
    "plt.legend(['Train', 'Validation', 'Best Model'], loc='upper right')\n",
    "plt.grid(True, linestyle='--', alpha=0.6)\n",
    "\n",
    "plt.subplot(1, 2, 2)\n",
    "plt.plot(history.history['loss'], '-')\n",
    "plt.plot(history.history['val_loss'], '-')\n",
    "plt.plot(best_epoch, history.history['val_loss'][best_epoch], 'ro', markersize=8)\n",
    "plt.title('Model Loss')\n",
    "plt.ylabel('Loss')\n",
    "plt.xlabel('Epoch')\n",
    "plt.legend(['Train', 'Validation', 'Best Model'], loc='upper right')\n",
    "plt.grid(True, linestyle='--', alpha=0.6)\n",
    "\n",
    "plt.tight_layout()\n",
    "plt.figtext(0.5, 0.01, f\"Early stopping at epoch {best_epoch+1} (best model)\", \n",
    "            ha='center', fontsize=10, bbox=dict(facecolor='yellow', alpha=0.2))\n",
    "plt.show()"
   ]
  },
  {
   "cell_type": "markdown",
   "id": "b35ba911",
   "metadata": {},
   "source": [
    "Visualisai di atas menunjukkan performa model Collaborative Filtering dengan nilai *validation RMSE* yang menurun signifikan dari `0.2097` menjadi sekitar `0.1977` dan *validation loss* dari `0.0442` menjadi `0.0398`, mencapai performa optimal pada epoch ke-5 (ditandai dengan titik merah) dari total 10 epoch di mana early stopping diaktifkan, menunjukkan model yang efektif dengan generalisasi baik tanpa tanda-tanda overfitting."
   ]
  },
  {
   "cell_type": "markdown",
   "id": "1b69a0c9",
   "metadata": {},
   "source": [
    "### Testing"
   ]
  },
  {
   "cell_type": "code",
   "execution_count": 39,
   "id": "dcb237c0",
   "metadata": {},
   "outputs": [],
   "source": [
    "# Membuat fungsi untuk mendapatkan rekomendasi film berdasarkan ID pengguna\n",
    "def get_movie_recommendations(user_id, top_n=10):\n",
    "    # Mendapatkan encoding pengguna\n",
    "    user_encoded = cf_data_processed[cf_data_processed['user_id'] == user_id]['user_encoded'].iloc[0]\n",
    "    \n",
    "    # Mendapatkan film yang telah diberi rating oleh pengguna\n",
    "    movies_rated_by_user = cf_data_processed[cf_data_processed['user_id'] == user_id]['movie_id'].tolist()\n",
    "    \n",
    "    # Mendapatkan semua encoding film\n",
    "    all_movie_encodings = list(range(num_movies))\n",
    "    \n",
    "    # Membuat data input untuk prediksi\n",
    "    user_movie_array = np.array([[user_encoded, movie_encoded] for movie_encoded in all_movie_encodings])\n",
    "    \n",
    "    # Mendapatkan prediksi rating\n",
    "    ratings = model.predict(user_movie_array).flatten()\n",
    "    \n",
    "    # Membuat DataFrame dengan ID film, encoding, dan prediksi rating\n",
    "    movie_ratings = pd.DataFrame({\n",
    "        'movie_encoded': all_movie_encodings,\n",
    "        'movie_id': [movie_encoded_to_movie[movie_encoded] for movie_encoded in all_movie_encodings],\n",
    "        'predicted_rating': ratings\n",
    "    })\n",
    "    \n",
    "    # Menghapus film yang sudah diberi rating oleh pengguna\n",
    "    recommendations = movie_ratings[~movie_ratings['movie_id'].isin(movies_rated_by_user)]\n",
    "    \n",
    "    # Mengurutkan berdasarkan prediksi rating secara menurun\n",
    "    recommendations = recommendations.sort_values('predicted_rating', ascending=False)\n",
    "    \n",
    "    # Menggabungkan dengan informasi film untuk mendapatkan judul\n",
    "    recommendations_with_titles = recommendations.merge(\n",
    "        movies[['movie_id', 'movie_title']], \n",
    "        on='movie_id', \n",
    "        how='left'\n",
    "    )\n",
    "    \n",
    "    return recommendations_with_titles.head(top_n)"
   ]
  },
  {
   "cell_type": "code",
   "execution_count": 40,
   "id": "43406686",
   "metadata": {},
   "outputs": [
    {
     "name": "stdout",
     "output_type": "stream",
     "text": [
      "\u001b[1m53/53\u001b[0m \u001b[32m━━━━━━━━━━━━━━━━━━━━\u001b[0m\u001b[37m\u001b[0m \u001b[1m0s\u001b[0m 2ms/step\n",
      "Top 10 movie recommendations for User 1:\n",
      "Casablanca (1942) - Predicted rating: 4.28/5.00\n",
      "Vertigo (1958) - Predicted rating: 4.11/5.00\n",
      "North by Northwest (1959) - Predicted rating: 4.11/5.00\n",
      "Rear Window (1954) - Predicted rating: 4.08/5.00\n",
      "To Kill a Mockingbird (1962) - Predicted rating: 4.01/5.00\n",
      "Maltese Falcon, The (1941) - Predicted rating: 4.01/5.00\n",
      "One Flew Over the Cuckoo's Nest (1975) - Predicted rating: 4.00/5.00\n",
      "It's a Wonderful Life (1946) - Predicted rating: 3.99/5.00\n",
      "African Queen, The (1951) - Predicted rating: 3.99/5.00\n",
      "Dr. Strangelove or: How I Learned to Stop Worrying and Love the Bomb (1963) - Predicted rating: 3.94/5.00\n"
     ]
    }
   ],
   "source": [
    "sample_user_id = 1\n",
    "user_recommendations = get_movie_recommendations(sample_user_id, top_n=10)\n",
    "print(f\"Top 10 movie recommendations for User {sample_user_id}:\")\n",
    "for idx, row in user_recommendations.iterrows():\n",
    "    print(f\"{row['movie_title']} - Predicted rating: {row['predicted_rating'] * 5:.2f}/5.00\")"
   ]
  },
  {
   "cell_type": "code",
   "execution_count": 41,
   "id": "daae0ce4",
   "metadata": {},
   "outputs": [
    {
     "name": "stdout",
     "output_type": "stream",
     "text": [
      "\u001b[1m53/53\u001b[0m \u001b[32m━━━━━━━━━━━━━━━━━━━━\u001b[0m\u001b[37m\u001b[0m \u001b[1m0s\u001b[0m 915us/step\n",
      "Top 10 movie recommendations for User 21:\n",
      "Shawshank Redemption, The (1994) - Predicted rating: 3.85/5.00\n",
      "Casablanca (1942) - Predicted rating: 3.64/5.00\n",
      "Schindler's List (1993) - Predicted rating: 3.64/5.00\n",
      "Titanic (1997) - Predicted rating: 3.55/5.00\n",
      "Rear Window (1954) - Predicted rating: 3.54/5.00\n",
      "Raiders of the Lost Ark (1981) - Predicted rating: 3.44/5.00\n",
      "Vertigo (1958) - Predicted rating: 3.38/5.00\n",
      "North by Northwest (1959) - Predicted rating: 3.38/5.00\n",
      "Good Will Hunting (1997) - Predicted rating: 3.34/5.00\n",
      "Usual Suspects, The (1995) - Predicted rating: 3.34/5.00\n"
     ]
    }
   ],
   "source": [
    "sample_user_id = 21\n",
    "user_recommendations = get_movie_recommendations(sample_user_id, top_n=10)\n",
    "print(f\"Top 10 movie recommendations for User {sample_user_id}:\")\n",
    "for idx, row in user_recommendations.iterrows():\n",
    "    print(f\"{row['movie_title']} - Predicted rating: {row['predicted_rating'] * 5:.2f}/5.00\")"
   ]
  },
  {
   "cell_type": "code",
   "execution_count": null,
   "id": "f4d982ce",
   "metadata": {},
   "outputs": [],
   "source": []
  }
 ],
 "metadata": {
  "kernelspec": {
   "display_name": "dicodingenv",
   "language": "python",
   "name": "python3"
  },
  "language_info": {
   "codemirror_mode": {
    "name": "ipython",
    "version": 3
   },
   "file_extension": ".py",
   "mimetype": "text/x-python",
   "name": "python",
   "nbconvert_exporter": "python",
   "pygments_lexer": "ipython3",
   "version": "3.10.16"
  }
 },
 "nbformat": 4,
 "nbformat_minor": 5
}
